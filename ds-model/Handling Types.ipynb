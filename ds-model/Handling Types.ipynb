{
 "cells": [
  {
   "cell_type": "code",
   "execution_count": 33,
   "id": "3429f90d",
   "metadata": {},
   "outputs": [],
   "source": [
    "import pandas as pd\n",
    "import re\n",
    "import pickle\n",
    "import matplotlib.pyplot as plt\n",
    "import seaborn as sns\n",
    "from imblearn.over_sampling import SMOTE\n",
    "\n",
    "from sklearn.utils import resample\n",
    "from sklearn.feature_extraction.text import TfidfVectorizer\n",
    "from sklearn.pipeline import Pipeline\n",
    "from sklearn.feature_extraction.text import CountVectorizer\n",
    "from sklearn.feature_extraction.text import TfidfTransformer\n",
    "from sklearn.linear_model import SGDClassifier\n",
    "from sklearn.naive_bayes import BernoulliNB, GaussianNB\n",
    "from sklearn.svm import SVC\n",
    "from sklearn.ensemble import RandomForestClassifier\n",
    "\n",
    "from sklearn.model_selection import train_test_split\n",
    "from sklearn.metrics import f1_score, accuracy_score, precision_score"
   ]
  },
  {
   "cell_type": "code",
   "execution_count": 8,
   "id": "20f708c2",
   "metadata": {},
   "outputs": [
    {
     "data": {
      "text/html": [
       "<div>\n",
       "<style scoped>\n",
       "    .dataframe tbody tr th:only-of-type {\n",
       "        vertical-align: middle;\n",
       "    }\n",
       "\n",
       "    .dataframe tbody tr th {\n",
       "        vertical-align: top;\n",
       "    }\n",
       "\n",
       "    .dataframe thead th {\n",
       "        text-align: right;\n",
       "    }\n",
       "</style>\n",
       "<table border=\"1\" class=\"dataframe\">\n",
       "  <thead>\n",
       "    <tr style=\"text-align: right;\">\n",
       "      <th></th>\n",
       "      <th>review_text</th>\n",
       "      <th>type</th>\n",
       "    </tr>\n",
       "  </thead>\n",
       "  <tbody>\n",
       "    <tr>\n",
       "      <th>0</th>\n",
       "      <td>We had a wonderful Saturday night dinner.</td>\n",
       "      <td>4</td>\n",
       "    </tr>\n",
       "    <tr>\n",
       "      <th>1</th>\n",
       "      <td>They had a fire dancer by the beach and a musi...</td>\n",
       "      <td>3</td>\n",
       "    </tr>\n",
       "    <tr>\n",
       "      <th>2</th>\n",
       "      <td>The seafood grill was good and their buttered ...</td>\n",
       "      <td>1</td>\n",
       "    </tr>\n",
       "    <tr>\n",
       "      <th>3</th>\n",
       "      <td>The grilled lamb was very chewy and not edible...</td>\n",
       "      <td>1</td>\n",
       "    </tr>\n",
       "    <tr>\n",
       "      <th>4</th>\n",
       "      <td>the service was good for a packed restaurant</td>\n",
       "      <td>2</td>\n",
       "    </tr>\n",
       "  </tbody>\n",
       "</table>\n",
       "</div>"
      ],
      "text/plain": [
       "                                         review_text  type\n",
       "0          We had a wonderful Saturday night dinner.     4\n",
       "1  They had a fire dancer by the beach and a musi...     3\n",
       "2  The seafood grill was good and their buttered ...     1\n",
       "3  The grilled lamb was very chewy and not edible...     1\n",
       "4       the service was good for a packed restaurant     2"
      ]
     },
     "execution_count": 8,
     "metadata": {},
     "output_type": "execute_result"
    }
   ],
   "source": [
    "root_path = \"data/types.csv\"\n",
    "df = pd.read_csv(root_path)\n",
    "df.drop(columns=['Unnamed: 1'], inplace=True)\n",
    "df.head()"
   ]
  },
  {
   "cell_type": "code",
   "execution_count": 9,
   "id": "238f6c23",
   "metadata": {},
   "outputs": [
    {
     "data": {
      "text/html": [
       "<div>\n",
       "<style scoped>\n",
       "    .dataframe tbody tr th:only-of-type {\n",
       "        vertical-align: middle;\n",
       "    }\n",
       "\n",
       "    .dataframe tbody tr th {\n",
       "        vertical-align: top;\n",
       "    }\n",
       "\n",
       "    .dataframe thead th {\n",
       "        text-align: right;\n",
       "    }\n",
       "</style>\n",
       "<table border=\"1\" class=\"dataframe\">\n",
       "  <thead>\n",
       "    <tr style=\"text-align: right;\">\n",
       "      <th></th>\n",
       "      <th>review_text</th>\n",
       "      <th>type</th>\n",
       "    </tr>\n",
       "  </thead>\n",
       "  <tbody>\n",
       "    <tr>\n",
       "      <th>0</th>\n",
       "      <td>We had a wonderful Saturday night dinner.</td>\n",
       "      <td>4</td>\n",
       "    </tr>\n",
       "    <tr>\n",
       "      <th>1</th>\n",
       "      <td>They had a fire dancer by the beach and a musi...</td>\n",
       "      <td>3</td>\n",
       "    </tr>\n",
       "    <tr>\n",
       "      <th>2</th>\n",
       "      <td>The seafood grill was good and their buttered ...</td>\n",
       "      <td>1</td>\n",
       "    </tr>\n",
       "    <tr>\n",
       "      <th>3</th>\n",
       "      <td>The grilled lamb was very chewy and not edible...</td>\n",
       "      <td>1</td>\n",
       "    </tr>\n",
       "    <tr>\n",
       "      <th>4</th>\n",
       "      <td>the service was good for a packed restaurant</td>\n",
       "      <td>2</td>\n",
       "    </tr>\n",
       "    <tr>\n",
       "      <th>...</th>\n",
       "      <td>...</td>\n",
       "      <td>...</td>\n",
       "    </tr>\n",
       "    <tr>\n",
       "      <th>495</th>\n",
       "      <td>but the mixed grill was really bad.</td>\n",
       "      <td>1</td>\n",
       "    </tr>\n",
       "    <tr>\n",
       "      <th>496</th>\n",
       "      <td>Half of the meat was gizzard and chicken liver...</td>\n",
       "      <td>1</td>\n",
       "    </tr>\n",
       "    <tr>\n",
       "      <th>497</th>\n",
       "      <td>told our waiter about the vegetables and to pa...</td>\n",
       "      <td>2</td>\n",
       "    </tr>\n",
       "    <tr>\n",
       "      <th>498</th>\n",
       "      <td>You guys should have a much better mixed grill</td>\n",
       "      <td>1</td>\n",
       "    </tr>\n",
       "    <tr>\n",
       "      <th>499</th>\n",
       "      <td>You guys should have at least better customer ...</td>\n",
       "      <td>2</td>\n",
       "    </tr>\n",
       "  </tbody>\n",
       "</table>\n",
       "<p>500 rows × 2 columns</p>\n",
       "</div>"
      ],
      "text/plain": [
       "                                           review_text  type\n",
       "0            We had a wonderful Saturday night dinner.     4\n",
       "1    They had a fire dancer by the beach and a musi...     3\n",
       "2    The seafood grill was good and their buttered ...     1\n",
       "3    The grilled lamb was very chewy and not edible...     1\n",
       "4         the service was good for a packed restaurant     2\n",
       "..                                                 ...   ...\n",
       "495                but the mixed grill was really bad.     1\n",
       "496  Half of the meat was gizzard and chicken liver...     1\n",
       "497  told our waiter about the vegetables and to pa...     2\n",
       "498     You guys should have a much better mixed grill     1\n",
       "499  You guys should have at least better customer ...     2\n",
       "\n",
       "[500 rows x 2 columns]"
      ]
     },
     "execution_count": 9,
     "metadata": {},
     "output_type": "execute_result"
    }
   ],
   "source": [
    "df.dropna()"
   ]
  },
  {
   "cell_type": "code",
   "execution_count": 10,
   "id": "0844dda0",
   "metadata": {},
   "outputs": [
    {
     "data": {
      "text/plain": [
       "(500, 2)"
      ]
     },
     "execution_count": 10,
     "metadata": {},
     "output_type": "execute_result"
    }
   ],
   "source": [
    "df.shape"
   ]
  },
  {
   "cell_type": "code",
   "execution_count": 13,
   "id": "0efd3cb2",
   "metadata": {},
   "outputs": [],
   "source": [
    "train, test = train_test_split(df, test_size=0.15)\n"
   ]
  },
  {
   "cell_type": "code",
   "execution_count": 14,
   "id": "e61151ae",
   "metadata": {},
   "outputs": [
    {
     "name": "stdout",
     "output_type": "stream",
     "text": [
      "training dataset size (425, 2)\n",
      "testing dataset size (75, 2)\n"
     ]
    }
   ],
   "source": [
    "print(\"training dataset size\", train.shape)\n",
    "print(\"testing dataset size\", test.shape)"
   ]
  },
  {
   "cell_type": "code",
   "execution_count": 17,
   "id": "a647d9ca",
   "metadata": {},
   "outputs": [
    {
     "name": "stderr",
     "output_type": "stream",
     "text": [
      "c:\\users\\hp\\appdata\\local\\programs\\python\\python37\\lib\\site-packages\\seaborn\\_decorators.py:43: FutureWarning: Pass the following variables as keyword args: x, y. From version 0.12, the only valid positional argument will be `data`, and passing other arguments without an explicit keyword will result in an error or misinterpretation.\n",
      "  FutureWarning\n"
     ]
    },
    {
     "data": {
      "image/png": "[encoded data removed]",
      "text/plain": [
       "<Figure size 432x288 with 1 Axes>"
      ]
     },
     "metadata": {
      "needs_background": "light"
     },
     "output_type": "display_data"
    }
   ],
   "source": [
    "food_count = len(train[train.type == 1])\n",
    "service_count = len(train[train.type == 2])\n",
    "ambience_count = len(train[train.type == 3])\n",
    "other_count = len(train[train.type == 4])\n",
    "\n",
    "x = [\"Food\", \"Service\", \"Ambience\", \"Other\"]\n",
    "y = [food_count, service_count, ambience_count, other_count]\n",
    "\n",
    "sns.barplot(x, y)\n",
    "plt.show()"
   ]
  },
  {
   "cell_type": "code",
   "execution_count": 18,
   "id": "618308e9",
   "metadata": {},
   "outputs": [],
   "source": [
    "def  clean_text(df, text_field): #\n",
    "    # This function removes all unnecessary characters from the text\n",
    "    df[text_field] = df[text_field].str.lower()\n",
    "    df[text_field] = df[text_field].apply(lambda elem: re.sub(r\"(@[A-Za-z0-9]+)|([^0-9A-Za-z \\t])|(\\w+:\\/\\/\\S+)|^rt|http.+?\", \"\", elem))  \n",
    "    return df\n",
    "\n",
    "train_clean = clean_text(train, \"review_text\")\n",
    "test_clean = clean_text(train, \"review_text\")"
   ]
  },
  {
   "cell_type": "code",
   "execution_count": 19,
   "id": "419cdddd",
   "metadata": {},
   "outputs": [
    {
     "data": {
      "text/html": [
       "<div>\n",
       "<style scoped>\n",
       "    .dataframe tbody tr th:only-of-type {\n",
       "        vertical-align: middle;\n",
       "    }\n",
       "\n",
       "    .dataframe tbody tr th {\n",
       "        vertical-align: top;\n",
       "    }\n",
       "\n",
       "    .dataframe thead th {\n",
       "        text-align: right;\n",
       "    }\n",
       "</style>\n",
       "<table border=\"1\" class=\"dataframe\">\n",
       "  <thead>\n",
       "    <tr style=\"text-align: right;\">\n",
       "      <th></th>\n",
       "      <th>review_text</th>\n",
       "      <th>type</th>\n",
       "    </tr>\n",
       "  </thead>\n",
       "  <tbody>\n",
       "    <tr>\n",
       "      <th>225</th>\n",
       "      <td>great customer service friendly staff very hel...</td>\n",
       "      <td>2</td>\n",
       "    </tr>\n",
       "    <tr>\n",
       "      <th>449</th>\n",
       "      <td>good restaurant near beach</td>\n",
       "      <td>3</td>\n",
       "    </tr>\n",
       "    <tr>\n",
       "      <th>152</th>\n",
       "      <td>we had good service</td>\n",
       "      <td>2</td>\n",
       "    </tr>\n",
       "    <tr>\n",
       "      <th>276</th>\n",
       "      <td>foods are good all the things under a reasonab...</td>\n",
       "      <td>1</td>\n",
       "    </tr>\n",
       "    <tr>\n",
       "      <th>124</th>\n",
       "      <td>amazing place very inviting the ambience is ve...</td>\n",
       "      <td>3</td>\n",
       "    </tr>\n",
       "    <tr>\n",
       "      <th>319</th>\n",
       "      <td>super chilled out place for a dinner with boyb</td>\n",
       "      <td>3</td>\n",
       "    </tr>\n",
       "    <tr>\n",
       "      <th>6</th>\n",
       "      <td>overall the atmosphere was great</td>\n",
       "      <td>3</td>\n",
       "    </tr>\n",
       "    <tr>\n",
       "      <th>475</th>\n",
       "      <td>the quantity and quality of the food is spot on</td>\n",
       "      <td>1</td>\n",
       "    </tr>\n",
       "    <tr>\n",
       "      <th>60</th>\n",
       "      <td>most evenings will find the restaurant at full...</td>\n",
       "      <td>4</td>\n",
       "    </tr>\n",
       "    <tr>\n",
       "      <th>360</th>\n",
       "      <td>i agree on cost of changes in some food items ...</td>\n",
       "      <td>1</td>\n",
       "    </tr>\n",
       "    <tr>\n",
       "      <th>13</th>\n",
       "      <td>they set up a table on the beach specially for us</td>\n",
       "      <td>1</td>\n",
       "    </tr>\n",
       "    <tr>\n",
       "      <th>39</th>\n",
       "      <td>the dishes are delicious and tasty</td>\n",
       "      <td>1</td>\n",
       "    </tr>\n",
       "    <tr>\n",
       "      <th>165</th>\n",
       "      <td>live music programs are arranged by the manage...</td>\n",
       "      <td>3</td>\n",
       "    </tr>\n",
       "    <tr>\n",
       "      <th>94</th>\n",
       "      <td>but the service not as great</td>\n",
       "      <td>2</td>\n",
       "    </tr>\n",
       "    <tr>\n",
       "      <th>220</th>\n",
       "      <td>good place to have a little chilling time</td>\n",
       "      <td>3</td>\n",
       "    </tr>\n",
       "  </tbody>\n",
       "</table>\n",
       "</div>"
      ],
      "text/plain": [
       "                                           review_text  type\n",
       "225  great customer service friendly staff very hel...     2\n",
       "449                         good restaurant near beach     3\n",
       "152                                we had good service     2\n",
       "276  foods are good all the things under a reasonab...     1\n",
       "124  amazing place very inviting the ambience is ve...     3\n",
       "319     super chilled out place for a dinner with boyb     3\n",
       "6                     overall the atmosphere was great     3\n",
       "475    the quantity and quality of the food is spot on     1\n",
       "60   most evenings will find the restaurant at full...     4\n",
       "360  i agree on cost of changes in some food items ...     1\n",
       "13   they set up a table on the beach specially for us     1\n",
       "39                  the dishes are delicious and tasty     1\n",
       "165  live music programs are arranged by the manage...     3\n",
       "94                        but the service not as great     2\n",
       "220          good place to have a little chilling time     3"
      ]
     },
     "execution_count": 19,
     "metadata": {},
     "output_type": "execute_result"
    }
   ],
   "source": [
    "train_clean.head(15)"
   ]
  },
  {
   "cell_type": "code",
   "execution_count": 26,
   "id": "97c26834",
   "metadata": {},
   "outputs": [
    {
     "data": {
      "text/plain": [
       "4    143\n",
       "3    143\n",
       "2    143\n",
       "1    143\n",
       "Name: type, dtype: int64"
      ]
     },
     "execution_count": 26,
     "metadata": {},
     "output_type": "execute_result"
    }
   ],
   "source": [
    "# upsampling \n",
    "train_food = train_clean[train_clean.type == 1]\n",
    "train_service = train_clean[train_clean.type == 2]\n",
    "train_ambience = train_clean[train_clean.type == 3] # target max count to upsample data\n",
    "train_other = train_clean[train_clean.type == 4]\n",
    "\n",
    "train_food_upsampled = resample(train_food, replace=True, n_samples=len(train_ambience), random_state=123)\n",
    "train_service_upsampled = resample(train_service, replace=True, n_samples=len(train_ambience), random_state=456)\n",
    "train_other_upsampled = resample(train_other, replace=True, n_samples=len(train_ambience), random_state=789)\n",
    "\n",
    "train_upsampled = pd.concat([train_food_upsampled, train_service_upsampled, train_ambience, train_other_upsampled])\n",
    "train_upsampled['type'].value_counts()"
   ]
  },
  {
   "cell_type": "code",
   "execution_count": 27,
   "id": "bf7efb07",
   "metadata": {},
   "outputs": [
    {
     "name": "stderr",
     "output_type": "stream",
     "text": [
      "c:\\users\\hp\\appdata\\local\\programs\\python\\python37\\lib\\site-packages\\seaborn\\_decorators.py:43: FutureWarning: Pass the following variables as keyword args: x, y. From version 0.12, the only valid positional argument will be `data`, and passing other arguments without an explicit keyword will result in an error or misinterpretation.\n",
      "  FutureWarning\n"
     ]
    },
    {
     "data": {
      "image/png": "[encoded data removed]",
      "text/plain": [
       "<Figure size 432x288 with 1 Axes>"
      ]
     },
     "metadata": {
      "needs_background": "light"
     },
     "output_type": "display_data"
    }
   ],
   "source": [
    "x = [\"Food\", \"Service\", \"Ambience\", \"Other\"]\n",
    "y = [len(train_upsampled[train_upsampled.type == 1 ]), len(train_upsampled[train_upsampled.type == 2 ]),  \n",
    "     len(train_upsampled[train_upsampled.type == 3 ]),  len(train_upsampled[train_upsampled.type == 4 ])]\n",
    "\n",
    "sns.barplot(x, y)\n",
    "plt.show()"
   ]
  },
  {
   "cell_type": "code",
   "execution_count": 39,
   "id": "9ac764f4",
   "metadata": {},
   "outputs": [],
   "source": [
    "pipeline_sgd = Pipeline([('vect', CountVectorizer()), \n",
    "                         ('tfidf',  TfidfTransformer()), \n",
    "                         ('nb', SGDClassifier()),])\n",
    "\n",
    "pipeline_bnb = Pipeline([('vect', CountVectorizer()), \n",
    "                         ('tfidf',  TfidfTransformer()), \n",
    "                         ('nb', BernoulliNB()),])\n",
    "\n",
    "# pipeline_svc = Pipeline([('vect', CountVectorizer()), \n",
    "#                          ('tfidf',  TfidfTransformer()), \n",
    "#                          ('nb', SVC()),])\n",
    "\n",
    "pipeline_rfc = Pipeline([('vect', CountVectorizer()), \n",
    "                         ('tfidf',  TfidfTransformer()), \n",
    "                         ('nb', RandomForestClassifier()),])"
   ]
  },
  {
   "cell_type": "code",
   "execution_count": 40,
   "id": "13f22195",
   "metadata": {},
   "outputs": [],
   "source": [
    "X_train, X_test, y_train, y_test = train_test_split(train_upsampled['review_text'],\n",
    "                                                    train_upsampled['type'],\n",
    "                                                    random_state = 0)\n",
    "models = []\n",
    "\n",
    "model_sgd = pipeline_sgd.fit(X_train, y_train)\n",
    "model_bnb = pipeline_bnb.fit(X_train, y_train)\n",
    "# model_svc = pipeline_svc.fit(X_train, y_train)\n",
    "model_rfc = pipeline_rfc.fit(X_train, y_train)\n",
    "\n",
    "models.append({\"name\": \"model_sgd\", \"model\": model_sgd})\n",
    "models.append({\"name\": \"model_bnb\", \"model\": model_bnb})\n",
    "# models.append({\"name\": \"model_svc\", \"model\": model_svc})\n",
    "models.append({\"name\": \"model_rfc\", \"model\": model_rfc})"
   ]
  },
  {
   "cell_type": "code",
   "execution_count": 41,
   "id": "1c70bda8",
   "metadata": {},
   "outputs": [
    {
     "name": "stdout",
     "output_type": "stream",
     "text": [
      "Model name: model_sgd\n",
      "F1 score 85.09 %\n",
      "Accuracy score 85.31 %\n",
      "Precision score 85.79 %\n",
      "-----------------------\n",
      "Model name: model_bnb\n",
      "F1 score 60.76 %\n",
      "Accuracy score 64.34 %\n",
      "Precision score 74.1 %\n",
      "-----------------------\n",
      "Model name: model_rfc\n",
      "F1 score 90.18 %\n",
      "Accuracy score 90.21 %\n",
      "Precision score 90.16 %\n",
      "-----------------------\n"
     ]
    }
   ],
   "source": [
    "for index in range (len(models)):\n",
    "    print(\"Model name:\", models[index]['name'])\n",
    "    y_predict = models[index]['model'].predict(X_test)\n",
    "    f1_score_result = f1_score(y_test, y_predict, average=\"weighted\")\n",
    "    accuracy_score_result = accuracy_score(y_test, y_predict)\n",
    "    precision_score_result = precision_score(y_test, y_predict, average=\"weighted\")\n",
    "\n",
    "    print(\"F1 score %s\" % round(f1_score_result*100, 2), \"%\")\n",
    "    print(\"Accuracy score %s\" % round(accuracy_score_result*100, 2), \"%\")\n",
    "    print(\"Precision score %s\" % round(precision_score_result*100, 2), \"%\")\n",
    "    print(\"-----------------------\")"
   ]
  },
  {
   "cell_type": "code",
   "execution_count": 42,
   "id": "7f8c6132",
   "metadata": {},
   "outputs": [],
   "source": [
    "pickle.dump(models[2]['model'], open(\"model\", 'wb'))"
   ]
  },
  {
   "cell_type": "code",
   "execution_count": 43,
   "id": "7c0d6044",
   "metadata": {},
   "outputs": [],
   "source": [
    "loaded_model = pickle.load(open(\"model_types\", 'rb'))"
   ]
  },
  {
   "cell_type": "code",
   "execution_count": 44,
   "id": "bdf1d6bc",
   "metadata": {},
   "outputs": [
    {
     "name": "stdout",
     "output_type": "stream",
     "text": [
      "Pipeline(steps=[('vect', CountVectorizer()), ('tfidf', TfidfTransformer()),\n",
      "                ('nb', RandomForestClassifier())])\n"
     ]
    }
   ],
   "source": [
    "print(loaded_model)"
   ]
  },
  {
   "cell_type": "code",
   "execution_count": 45,
   "id": "574bcea0",
   "metadata": {},
   "outputs": [],
   "source": [
    "def clean_text(text):\n",
    "    text = text.lower()\n",
    "    text = re.sub(r\"(@[A-Za-z0-9]+)|([^0-9A-Za-z \\t])|(\\w+:\\/\\/\\S+)|^rt|http.+?\", \"\", text)\n",
    "    return text"
   ]
  },
  {
   "cell_type": "code",
   "execution_count": 49,
   "id": "ddb13071",
   "metadata": {},
   "outputs": [
    {
     "name": "stdout",
     "output_type": "stream",
     "text": [
      "150\n"
     ]
    }
   ],
   "source": [
    "print(test.size)"
   ]
  },
  {
   "cell_type": "code",
   "execution_count": 74,
   "id": "a7d9288b",
   "metadata": {},
   "outputs": [],
   "source": [
    "for i in range (test.size - 1):\n",
    "    try: \n",
    "        review = test.iloc[i]['review_text']\n",
    "        review = clean_text(review)\n",
    "\n",
    "        output = [\"Food\", \"Service\", \"Ambience\", \"Other\"]\n",
    "        result = loaded_model.predict(pd.Series(review))[0]\n",
    "        if(result == 3):\n",
    "            print(review, \"<==>\", output[int(result)-1])\n",
    "            print()\n",
    "    except:\n",
    "        continue\n",
    "    "
   ]
  },
  {
   "cell_type": "code",
   "execution_count": null,
   "id": "b4289104",
   "metadata": {},
   "outputs": [],
   "source": []
  }
 ],
 "metadata": {
  "kernelspec": {
   "display_name": "Python 3 (ipykernel)",
   "language": "python",
   "name": "python3"
  },
  "language_info": {
   "codemirror_mode": {
    "name": "ipython",
    "version": 3
   },
   "file_extension": ".py",
   "mimetype": "text/x-python",
   "name": "python",
   "nbconvert_exporter": "python",
   "pygments_lexer": "ipython3",
   "version": "3.7.0"
  }
 },
 "nbformat": 4,
 "nbformat_minor": 5
}
