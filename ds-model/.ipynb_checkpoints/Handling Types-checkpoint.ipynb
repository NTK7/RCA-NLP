{
 "cells": [
  {
   "cell_type": "code",
   "execution_count": 14,
   "id": "3429f90d",
   "metadata": {},
   "outputs": [],
   "source": [
    "import pandas as pd\n",
    "import re\n",
    "import pickle\n",
    "import matplotlib.pyplot as plt\n",
    "import seaborn as sns\n",
    "from imblearn.over_sampling import SMOTE\n",
    "\n",
    "from sklearn.utils import resample\n",
    "from sklearn.feature_extraction.text import TfidfVectorizer\n",
    "from sklearn.pipeline import Pipeline\n",
    "from sklearn.feature_extraction.text import CountVectorizer\n",
    "from sklearn.feature_extraction.text import TfidfTransformer\n",
    "from sklearn.linear_model import SGDClassifier\n",
    "from sklearn.naive_bayes import BernoulliNB, GaussianNB\n",
    "from sklearn.svm import SVC\n",
    "from sklearn.ensemble import RandomForestClassifier\n",
    "\n",
    "from sklearn.model_selection import train_test_split\n",
    "from sklearn.metrics import f1_score, accuracy_score, precision_score\n",
    "from sklearn.ensemble import StackingClassifier\n",
    "from sklearn.linear_model import LogisticRegression"
   ]
  },
  {
   "cell_type": "code",
   "execution_count": 3,
   "id": "20f708c2",
   "metadata": {},
   "outputs": [
    {
     "data": {
      "text/html": [
       "<div>\n",
       "<style scoped>\n",
       "    .dataframe tbody tr th:only-of-type {\n",
       "        vertical-align: middle;\n",
       "    }\n",
       "\n",
       "    .dataframe tbody tr th {\n",
       "        vertical-align: top;\n",
       "    }\n",
       "\n",
       "    .dataframe thead th {\n",
       "        text-align: right;\n",
       "    }\n",
       "</style>\n",
       "<table border=\"1\" class=\"dataframe\">\n",
       "  <thead>\n",
       "    <tr style=\"text-align: right;\">\n",
       "      <th></th>\n",
       "      <th>review_text</th>\n",
       "      <th>type</th>\n",
       "    </tr>\n",
       "  </thead>\n",
       "  <tbody>\n",
       "    <tr>\n",
       "      <th>0</th>\n",
       "      <td>We had a wonderful Saturday night dinner.</td>\n",
       "      <td>4</td>\n",
       "    </tr>\n",
       "    <tr>\n",
       "      <th>1</th>\n",
       "      <td>They had a fire dancer by the beach and a musi...</td>\n",
       "      <td>3</td>\n",
       "    </tr>\n",
       "    <tr>\n",
       "      <th>2</th>\n",
       "      <td>The seafood grill was good and their buttered ...</td>\n",
       "      <td>1</td>\n",
       "    </tr>\n",
       "    <tr>\n",
       "      <th>3</th>\n",
       "      <td>The grilled lamb was very chewy and not edible...</td>\n",
       "      <td>1</td>\n",
       "    </tr>\n",
       "    <tr>\n",
       "      <th>4</th>\n",
       "      <td>the service was good for a packed restaurant</td>\n",
       "      <td>2</td>\n",
       "    </tr>\n",
       "  </tbody>\n",
       "</table>\n",
       "</div>"
      ],
      "text/plain": [
       "                                         review_text  type\n",
       "0          We had a wonderful Saturday night dinner.     4\n",
       "1  They had a fire dancer by the beach and a musi...     3\n",
       "2  The seafood grill was good and their buttered ...     1\n",
       "3  The grilled lamb was very chewy and not edible...     1\n",
       "4       the service was good for a packed restaurant     2"
      ]
     },
     "execution_count": 3,
     "metadata": {},
     "output_type": "execute_result"
    }
   ],
   "source": [
    "root_path = \"data/types.csv\"\n",
    "df = pd.read_csv(root_path, encoding='latin1')\n",
    "# df.drop(columns=['Unnamed: 1'], inplace=True)\n",
    "df.head()"
   ]
  },
  {
   "cell_type": "code",
   "execution_count": 4,
   "id": "238f6c23",
   "metadata": {},
   "outputs": [
    {
     "data": {
      "text/html": [
       "<div>\n",
       "<style scoped>\n",
       "    .dataframe tbody tr th:only-of-type {\n",
       "        vertical-align: middle;\n",
       "    }\n",
       "\n",
       "    .dataframe tbody tr th {\n",
       "        vertical-align: top;\n",
       "    }\n",
       "\n",
       "    .dataframe thead th {\n",
       "        text-align: right;\n",
       "    }\n",
       "</style>\n",
       "<table border=\"1\" class=\"dataframe\">\n",
       "  <thead>\n",
       "    <tr style=\"text-align: right;\">\n",
       "      <th></th>\n",
       "      <th>review_text</th>\n",
       "      <th>type</th>\n",
       "    </tr>\n",
       "  </thead>\n",
       "  <tbody>\n",
       "    <tr>\n",
       "      <th>0</th>\n",
       "      <td>We had a wonderful Saturday night dinner.</td>\n",
       "      <td>4</td>\n",
       "    </tr>\n",
       "    <tr>\n",
       "      <th>1</th>\n",
       "      <td>They had a fire dancer by the beach and a musi...</td>\n",
       "      <td>3</td>\n",
       "    </tr>\n",
       "    <tr>\n",
       "      <th>2</th>\n",
       "      <td>The seafood grill was good and their buttered ...</td>\n",
       "      <td>1</td>\n",
       "    </tr>\n",
       "    <tr>\n",
       "      <th>3</th>\n",
       "      <td>The grilled lamb was very chewy and not edible...</td>\n",
       "      <td>1</td>\n",
       "    </tr>\n",
       "    <tr>\n",
       "      <th>4</th>\n",
       "      <td>the service was good for a packed restaurant</td>\n",
       "      <td>2</td>\n",
       "    </tr>\n",
       "    <tr>\n",
       "      <th>...</th>\n",
       "      <td>...</td>\n",
       "      <td>...</td>\n",
       "    </tr>\n",
       "    <tr>\n",
       "      <th>1311</th>\n",
       "      <td>But the food is good though.</td>\n",
       "      <td>1</td>\n",
       "    </tr>\n",
       "    <tr>\n",
       "      <th>1312</th>\n",
       "      <td>Good value for money</td>\n",
       "      <td>4</td>\n",
       "    </tr>\n",
       "    <tr>\n",
       "      <th>1313</th>\n",
       "      <td>Sea breeze can be a disturbance sometimes.</td>\n",
       "      <td>3</td>\n",
       "    </tr>\n",
       "    <tr>\n",
       "      <th>1314</th>\n",
       "      <td>You can have best view for watching sunsets.</td>\n",
       "      <td>3</td>\n",
       "    </tr>\n",
       "    <tr>\n",
       "      <th>1315</th>\n",
       "      <td>the food is awesome.</td>\n",
       "      <td>1</td>\n",
       "    </tr>\n",
       "  </tbody>\n",
       "</table>\n",
       "<p>1316 rows × 2 columns</p>\n",
       "</div>"
      ],
      "text/plain": [
       "                                            review_text  type\n",
       "0             We had a wonderful Saturday night dinner.     4\n",
       "1     They had a fire dancer by the beach and a musi...     3\n",
       "2     The seafood grill was good and their buttered ...     1\n",
       "3     The grilled lamb was very chewy and not edible...     1\n",
       "4          the service was good for a packed restaurant     2\n",
       "...                                                 ...   ...\n",
       "1311                       But the food is good though.     1\n",
       "1312                               Good value for money     4\n",
       "1313         Sea breeze can be a disturbance sometimes.     3\n",
       "1314       You can have best view for watching sunsets.     3\n",
       "1315                              the food is awesome.      1\n",
       "\n",
       "[1316 rows x 2 columns]"
      ]
     },
     "execution_count": 4,
     "metadata": {},
     "output_type": "execute_result"
    }
   ],
   "source": [
    "df.dropna()"
   ]
  },
  {
   "cell_type": "code",
   "execution_count": 5,
   "id": "0844dda0",
   "metadata": {},
   "outputs": [
    {
     "data": {
      "text/plain": [
       "(1316, 2)"
      ]
     },
     "execution_count": 5,
     "metadata": {},
     "output_type": "execute_result"
    }
   ],
   "source": [
    "df.shape"
   ]
  },
  {
   "cell_type": "code",
   "execution_count": 6,
   "id": "0efd3cb2",
   "metadata": {},
   "outputs": [],
   "source": [
    "train, test = train_test_split(df, test_size=0.15)\n"
   ]
  },
  {
   "cell_type": "code",
   "execution_count": 7,
   "id": "e61151ae",
   "metadata": {},
   "outputs": [
    {
     "name": "stdout",
     "output_type": "stream",
     "text": [
      "training dataset size (1118, 2)\n",
      "testing dataset size (198, 2)\n"
     ]
    }
   ],
   "source": [
    "print(\"training dataset size\", train.shape)\n",
    "print(\"testing dataset size\", test.shape)"
   ]
  },
  {
   "cell_type": "code",
   "execution_count": 8,
   "id": "a647d9ca",
   "metadata": {},
   "outputs": [
    {
     "name": "stderr",
     "output_type": "stream",
     "text": [
      "c:\\users\\hp\\appdata\\local\\programs\\python\\python37\\lib\\site-packages\\seaborn\\_decorators.py:43: FutureWarning: Pass the following variables as keyword args: x, y. From version 0.12, the only valid positional argument will be `data`, and passing other arguments without an explicit keyword will result in an error or misinterpretation.\n",
      "  FutureWarning\n"
     ]
    },
    {
     "data": {
      "image/png": "[encoded data removed]",
      "text/plain": [
       "<Figure size 432x288 with 1 Axes>"
      ]
     },
     "metadata": {
      "needs_background": "light"
     },
     "output_type": "display_data"
    }
   ],
   "source": [
    "food_count = len(train[train.type == 1])\n",
    "service_count = len(train[train.type == 2])\n",
    "ambience_count = len(train[train.type == 3])\n",
    "other_count = len(train[train.type == 4])\n",
    "\n",
    "x = [\"Food\", \"Service\", \"Ambience\", \"Other\"]\n",
    "y = [food_count, service_count, ambience_count, other_count]\n",
    "\n",
    "sns.barplot(x, y)\n",
    "plt.show()"
   ]
  },
  {
   "cell_type": "code",
   "execution_count": 9,
   "id": "618308e9",
   "metadata": {},
   "outputs": [],
   "source": [
    "def  clean_text(df, text_field): #\n",
    "    # This function removes all unnecessary characters from the text\n",
    "    df[text_field] = df[text_field].str.lower()\n",
    "    df[text_field] = df[text_field].apply(lambda elem: re.sub(r\"(@[A-Za-z0-9]+)|([^0-9A-Za-z \\t])|(\\w+:\\/\\/\\S+)|^rt|http.+?\", \"\", elem))  \n",
    "    return df\n",
    "\n",
    "train_clean = clean_text(train, \"review_text\")\n",
    "test_clean = clean_text(train, \"review_text\")"
   ]
  },
  {
   "cell_type": "code",
   "execution_count": 10,
   "id": "419cdddd",
   "metadata": {},
   "outputs": [
    {
     "data": {
      "text/html": [
       "<div>\n",
       "<style scoped>\n",
       "    .dataframe tbody tr th:only-of-type {\n",
       "        vertical-align: middle;\n",
       "    }\n",
       "\n",
       "    .dataframe tbody tr th {\n",
       "        vertical-align: top;\n",
       "    }\n",
       "\n",
       "    .dataframe thead th {\n",
       "        text-align: right;\n",
       "    }\n",
       "</style>\n",
       "<table border=\"1\" class=\"dataframe\">\n",
       "  <thead>\n",
       "    <tr style=\"text-align: right;\">\n",
       "      <th></th>\n",
       "      <th>review_text</th>\n",
       "      <th>type</th>\n",
       "    </tr>\n",
       "  </thead>\n",
       "  <tbody>\n",
       "    <tr>\n",
       "      <th>204</th>\n",
       "      <td>the staff are very friendly and professional t...</td>\n",
       "      <td>2</td>\n",
       "    </tr>\n",
       "    <tr>\n",
       "      <th>1312</th>\n",
       "      <td>good value for money</td>\n",
       "      <td>4</td>\n",
       "    </tr>\n",
       "    <tr>\n",
       "      <th>661</th>\n",
       "      <td>service is not but not fully satisfiedorders ...</td>\n",
       "      <td>2</td>\n",
       "    </tr>\n",
       "    <tr>\n",
       "      <th>1026</th>\n",
       "      <td>pleasant service</td>\n",
       "      <td>2</td>\n",
       "    </tr>\n",
       "    <tr>\n",
       "      <th>1001</th>\n",
       "      <td>great environment nice place to have office ou...</td>\n",
       "      <td>4</td>\n",
       "    </tr>\n",
       "    <tr>\n",
       "      <th>385</th>\n",
       "      <td>a really nice place to hang out with your frie...</td>\n",
       "      <td>4</td>\n",
       "    </tr>\n",
       "    <tr>\n",
       "      <th>1129</th>\n",
       "      <td>sweet spot for a beach chill</td>\n",
       "      <td>3</td>\n",
       "    </tr>\n",
       "    <tr>\n",
       "      <th>402</th>\n",
       "      <td>they have several menus to select can recommend</td>\n",
       "      <td>2</td>\n",
       "    </tr>\n",
       "    <tr>\n",
       "      <th>615</th>\n",
       "      <td>this place have awesome foods and shisha</td>\n",
       "      <td>1</td>\n",
       "    </tr>\n",
       "    <tr>\n",
       "      <th>1016</th>\n",
       "      <td>excellent beach side place to chill eat sip on...</td>\n",
       "      <td>3</td>\n",
       "    </tr>\n",
       "    <tr>\n",
       "      <th>723</th>\n",
       "      <td>wondering place to spend evening time with bee...</td>\n",
       "      <td>4</td>\n",
       "    </tr>\n",
       "    <tr>\n",
       "      <th>755</th>\n",
       "      <td>outside huts are really hot and they dont hav...</td>\n",
       "      <td>3</td>\n",
       "    </tr>\n",
       "    <tr>\n",
       "      <th>1170</th>\n",
       "      <td>when it come to the food portion is not enough...</td>\n",
       "      <td>1</td>\n",
       "    </tr>\n",
       "    <tr>\n",
       "      <th>276</th>\n",
       "      <td>foods are good all the things under a reasonab...</td>\n",
       "      <td>1</td>\n",
       "    </tr>\n",
       "    <tr>\n",
       "      <th>782</th>\n",
       "      <td>i was very disappointed on the attitude of sta...</td>\n",
       "      <td>2</td>\n",
       "    </tr>\n",
       "  </tbody>\n",
       "</table>\n",
       "</div>"
      ],
      "text/plain": [
       "                                            review_text  type\n",
       "204   the staff are very friendly and professional t...     2\n",
       "1312                               good value for money     4\n",
       "661    service is not but not fully satisfiedorders ...     2\n",
       "1026                                  pleasant service      2\n",
       "1001  great environment nice place to have office ou...     4\n",
       "385   a really nice place to hang out with your frie...     4\n",
       "1129                      sweet spot for a beach chill      3\n",
       "402     they have several menus to select can recommend     2\n",
       "615           this place have awesome foods and shisha      1\n",
       "1016  excellent beach side place to chill eat sip on...     3\n",
       "723   wondering place to spend evening time with bee...     4\n",
       "755    outside huts are really hot and they dont hav...     3\n",
       "1170  when it come to the food portion is not enough...     1\n",
       "276   foods are good all the things under a reasonab...     1\n",
       "782   i was very disappointed on the attitude of sta...     2"
      ]
     },
     "execution_count": 10,
     "metadata": {},
     "output_type": "execute_result"
    }
   ],
   "source": [
    "train_clean.head(15)"
   ]
  },
  {
   "cell_type": "code",
   "execution_count": 11,
   "id": "97c26834",
   "metadata": {},
   "outputs": [
    {
     "data": {
      "text/plain": [
       "4    363\n",
       "3    363\n",
       "2    363\n",
       "1    363\n",
       "Name: type, dtype: int64"
      ]
     },
     "execution_count": 11,
     "metadata": {},
     "output_type": "execute_result"
    }
   ],
   "source": [
    "# upsampling \n",
    "train_food = train_clean[train_clean.type == 1] # target max count to upsample data\n",
    "train_service = train_clean[train_clean.type == 2]\n",
    "train_ambience = train_clean[train_clean.type == 3] \n",
    "train_other = train_clean[train_clean.type == 4]\n",
    "\n",
    "train_ambience_upsampled = resample(train_ambience, replace=True, n_samples=len(train_food), random_state=123)\n",
    "train_service_upsampled = resample(train_service, replace=True, n_samples=len(train_food), random_state=456)\n",
    "train_other_upsampled = resample(train_other, replace=True, n_samples=len(train_food), random_state=789)\n",
    "\n",
    "train_upsampled = pd.concat([train_food, train_service_upsampled, train_ambience_upsampled, train_other_upsampled])\n",
    "train_upsampled['type'].value_counts()"
   ]
  },
  {
   "cell_type": "code",
   "execution_count": 12,
   "id": "bf7efb07",
   "metadata": {},
   "outputs": [
    {
     "name": "stderr",
     "output_type": "stream",
     "text": [
      "c:\\users\\hp\\appdata\\local\\programs\\python\\python37\\lib\\site-packages\\seaborn\\_decorators.py:43: FutureWarning: Pass the following variables as keyword args: x, y. From version 0.12, the only valid positional argument will be `data`, and passing other arguments without an explicit keyword will result in an error or misinterpretation.\n",
      "  FutureWarning\n"
     ]
    },
    {
     "data": {
      "image/png": "[encoded data removed]",
      "text/plain": [
       "<Figure size 432x288 with 1 Axes>"
      ]
     },
     "metadata": {
      "needs_background": "light"
     },
     "output_type": "display_data"
    }
   ],
   "source": [
    "x = [\"Food\", \"Service\", \"Ambience\", \"Other\"]\n",
    "y = [len(train_upsampled[train_upsampled.type == 1 ]), len(train_upsampled[train_upsampled.type == 2 ]),  \n",
    "     len(train_upsampled[train_upsampled.type == 3 ]),  len(train_upsampled[train_upsampled.type == 4 ])]\n",
    "\n",
    "sns.barplot(x, y)\n",
    "plt.show()"
   ]
  },
  {
   "cell_type": "code",
   "execution_count": 17,
   "id": "71270d8b",
   "metadata": {},
   "outputs": [],
   "source": [
    "# Building the Stacked Modal\n",
    "sdg = SGDClassifier()\n",
    "bnb = BernoulliNB()\n",
    "svc = SVC()\n",
    "rfc = RandomForestClassifier()\n",
    "\n",
    "estimator_list = [('sdg', sdg), ('bnb', bnb), ('svc', svc), ('rfc', rfc)]\n",
    "\n",
    "stacked = StackingClassifier(\n",
    "    estimators=estimator_list, final_estimator=LogisticRegression()\n",
    ")"
   ]
  },
  {
   "cell_type": "code",
   "execution_count": 19,
   "id": "9ac764f4",
   "metadata": {},
   "outputs": [],
   "source": [
    "pipeline_sgd = Pipeline([('vect', CountVectorizer()), \n",
    "                         ('tfidf',  TfidfTransformer()), \n",
    "                         ('nb', sdg),])\n",
    "\n",
    "pipeline_bnb = Pipeline([('vect', CountVectorizer()), \n",
    "                         ('tfidf',  TfidfTransformer()), \n",
    "                         ('nb', bnb),])\n",
    "\n",
    "pipeline_svc = Pipeline([('vect', CountVectorizer()), \n",
    "                         ('tfidf',  TfidfTransformer()), \n",
    "                         ('nb', svc),])\n",
    "\n",
    "pipeline_rfc = Pipeline([('vect', CountVectorizer()), \n",
    "                         ('tfidf',  TfidfTransformer()), \n",
    "                         ('nb', rfc),])\n",
    "\n",
    "\n",
    "pipeline_stacked = Pipeline([('vect', CountVectorizer()), \n",
    "                         ('tfidf',  TfidfTransformer()), \n",
    "                         ('nb', stacked),])"
   ]
  },
  {
   "cell_type": "code",
   "execution_count": 20,
   "id": "13f22195",
   "metadata": {},
   "outputs": [
    {
     "name": "stderr",
     "output_type": "stream",
     "text": [
      "c:\\users\\hp\\appdata\\local\\programs\\python\\python37\\lib\\site-packages\\sklearn\\linear_model\\_logistic.py:818: ConvergenceWarning: lbfgs failed to converge (status=1):\n",
      "STOP: TOTAL NO. of ITERATIONS REACHED LIMIT.\n",
      "\n",
      "Increase the number of iterations (max_iter) or scale the data as shown in:\n",
      "    https://scikit-learn.org/stable/modules/preprocessing.html\n",
      "Please also refer to the documentation for alternative solver options:\n",
      "    https://scikit-learn.org/stable/modules/linear_model.html#logistic-regression\n",
      "  extra_warning_msg=_LOGISTIC_SOLVER_CONVERGENCE_MSG,\n"
     ]
    }
   ],
   "source": [
    "X_train, X_test, y_train, y_test = train_test_split(train_upsampled['review_text'],\n",
    "                                                    train_upsampled['type'],\n",
    "                                                    random_state = 0)\n",
    "models = []\n",
    "\n",
    "model_sgd = pipeline_sgd.fit(X_train, y_train)\n",
    "model_bnb = pipeline_bnb.fit(X_train, y_train)\n",
    "model_svc = pipeline_svc.fit(X_train, y_train)\n",
    "model_rfc = pipeline_rfc.fit(X_train, y_train)\n",
    "model_stacked = pipeline_stacked.fit(X_train, y_train)\n",
    "\n",
    "models.append({\"name\": \"model_sgd\", \"model\": model_sgd})\n",
    "models.append({\"name\": \"model_bnb\", \"model\": model_bnb})\n",
    "models.append({\"name\": \"model_svc\", \"model\": model_svc})\n",
    "models.append({\"name\": \"model_rfc\", \"model\": model_rfc})\n",
    "models.append({\"name\": \"model_stacked\", \"model\": model_stacked})"
   ]
  },
  {
   "cell_type": "code",
   "execution_count": 21,
   "id": "1c70bda8",
   "metadata": {},
   "outputs": [
    {
     "name": "stdout",
     "output_type": "stream",
     "text": [
      "Model name: model_sgd\n",
      "F1 score 91.23 %\n",
      "Accuracy score 91.18 %\n",
      "Precision score 91.53 %\n",
      "-----------------------\n",
      "Model name: model_bnb\n",
      "F1 score 87.59 %\n",
      "Accuracy score 87.6 %\n",
      "Precision score 88.61 %\n",
      "-----------------------\n",
      "Model name: model_svc\n",
      "F1 score 94.49 %\n",
      "Accuracy score 94.49 %\n",
      "Precision score 94.54 %\n",
      "-----------------------\n",
      "Model name: model_rfc\n",
      "F1 score 92.28 %\n",
      "Accuracy score 92.29 %\n",
      "Precision score 92.4 %\n",
      "-----------------------\n",
      "Model name: model_stacked\n",
      "F1 score 94.75 %\n",
      "Accuracy score 94.77 %\n",
      "Precision score 94.79 %\n",
      "-----------------------\n"
     ]
    }
   ],
   "source": [
    "for index in range (len(models)):\n",
    "    print(\"Model name:\", models[index]['name'])\n",
    "    y_predict = models[index]['model'].predict(X_test)\n",
    "    f1_score_result = f1_score(y_test, y_predict, average=\"weighted\")\n",
    "    accuracy_score_result = accuracy_score(y_test, y_predict)\n",
    "    precision_score_result = precision_score(y_test, y_predict, average=\"weighted\")\n",
    "\n",
    "    print(\"F1 score %s\" % round(f1_score_result*100, 2), \"%\")\n",
    "    print(\"Accuracy score %s\" % round(accuracy_score_result*100, 2), \"%\")\n",
    "    print(\"Precision score %s\" % round(precision_score_result*100, 2), \"%\")\n",
    "    print(\"-----------------------\")"
   ]
  },
  {
   "cell_type": "code",
   "execution_count": 30,
   "id": "7f8c6132",
   "metadata": {},
   "outputs": [],
   "source": [
    "pickle.dump(models[4]['model'], open(\"model\", 'wb'))"
   ]
  },
  {
   "cell_type": "code",
   "execution_count": 31,
   "id": "7c0d6044",
   "metadata": {},
   "outputs": [],
   "source": [
    "loaded_model = pickle.load(open(\"model_types\", 'rb'))"
   ]
  },
  {
   "cell_type": "code",
   "execution_count": 32,
   "id": "bdf1d6bc",
   "metadata": {},
   "outputs": [
    {
     "name": "stdout",
     "output_type": "stream",
     "text": [
      "Pipeline(steps=[('vect', CountVectorizer()), ('tfidf', TfidfTransformer()),\n",
      "                ('nb', RandomForestClassifier())])\n"
     ]
    }
   ],
   "source": [
    "print(loaded_model)"
   ]
  },
  {
   "cell_type": "code",
   "execution_count": 33,
   "id": "574bcea0",
   "metadata": {},
   "outputs": [],
   "source": [
    "def clean_text(text):\n",
    "    text = text.lower()\n",
    "    text = re.sub(r\"(@[A-Za-z0-9]+)|([^0-9A-Za-z \\t])|(\\w+:\\/\\/\\S+)|^rt|http.+?\", \"\", text)\n",
    "    return text"
   ]
  },
  {
   "cell_type": "code",
   "execution_count": 34,
   "id": "ddb13071",
   "metadata": {},
   "outputs": [
    {
     "name": "stdout",
     "output_type": "stream",
     "text": [
      "396\n"
     ]
    }
   ],
   "source": [
    "print(test.size)"
   ]
  },
  {
   "cell_type": "code",
   "execution_count": 35,
   "id": "a7d9288b",
   "metadata": {},
   "outputs": [
    {
     "name": "stdout",
     "output_type": "stream",
     "text": [
      "nice atmosphere and our table was on the beach <==> Ambience\n",
      "\n",
      "the beach is quite dirty at the other side <==> Ambience\n",
      "\n",
      "awesome live band show check this place <==> Ambience\n",
      "\n",
      "ambience is good <==> Ambience\n",
      "\n",
      "very good location right on the beach very relaxing <==> Ambience\n",
      "\n",
      "beachside seating limited so we ended up sitting in a more enclosed outdoor area <==> Ambience\n",
      "\n",
      "excellent sea restaurant experience outdoor  and indoor seating areas  ideal for gatherings and parties <==> Ambience\n",
      "\n",
      "great place on beach  <==> Ambience\n",
      "\n",
      "located right along the indian beachopen dining to feel the sea free while enjoy the sand under feets <==> Ambience\n",
      "\n",
      "good atmosphere tables on the sands under the trees decent crowds loved it <==> Ambience\n",
      "\n",
      "you can have a nice candle lit dinner near the beach <==> Ambience\n",
      "\n",
      "peaceful and calm environment easy access <==> Ambience\n",
      "\n",
      "great music and great sea breeze <==> Ambience\n",
      "\n",
      "has the sea breeze and calm atmosphere for a dinner suitable for large groups of friends or families with kids <==> Ambience\n",
      "\n",
      "this is a nice place to watch the sun set while zipping a beer <==> Ambience\n",
      "\n",
      "recommended place for a peaceful evening out i had awesome dinner with my loved ones i would really like to visit this place again i can recommend this place to any body who like to enjoy delicious food live music  sea view with good customer service <==> Ambience\n",
      "\n",
      "like most venues the live music is too loud ask for a table as far away from the stage as possible <==> Ambience\n",
      "\n",
      "go a bit early and enjoy a fabulous colombo sunset over the ocean its a lovely stretch of as yet unspoiled beach <==> Ambience\n",
      "\n",
      "you can enjoy live music and great food in this place recomend to reserve your table before you go <==> Ambience\n",
      "\n",
      "beach outside sitting is available only after 6pm since its a public beach area inside sitting is well planned <==> Ambience\n",
      "\n",
      "would recommend the tables on the beach better do a reservation prior in order to get a decent table <==> Ambience\n",
      "\n",
      "amazing place very inviting the ambience is very soothing given its on the beach and some old school music played by a live band <==> Ambience\n",
      "\n",
      "it was a pleasant evening with fresh sea food and live music <==> Ambience\n",
      "\n",
      " enjoy some cool shade during the day and a cool night breeze through the mangroves which shelter the property  <==> Ambience\n",
      "\n",
      "great location and ambiance <==> Ambience\n",
      "\n",
      "casual dining on the beach reasonable food choice naturally sea food is the focus <==> Ambience\n",
      "\n",
      " despite the beach and sea wind it was smelling bad  <==> Ambience\n",
      "\n",
      "love the layouts <==> Ambience\n",
      "\n",
      "in busy days you may not be lucky to get those places near beach mainly saturday  <==> Ambience\n",
      "\n",
      "prior reservation is recommended if youd like a table right on the beach <==> Ambience\n",
      "\n",
      "overall good place to meet up with a bunch of friends with the beach view <==> Ambience\n",
      "\n",
      "great for a romantic dinner with your loved one or for group of friends <==> Ambience\n",
      "\n",
      " the place has a fairly decent beach front <==> Ambience\n",
      "\n",
      "nice place for take dinner at the beach <==> Ambience\n",
      "\n",
      "great environment nice place to have office outings too <==> Ambience\n",
      "\n",
      "nice place and reasonable price <==> Ambience\n",
      "\n",
      "nice place <==> Ambience\n",
      "\n",
      "one of the popular spots on the beach to unwind and have a drink by the water <==> Ambience\n",
      "\n",
      "good place to have an awesome time at beach <==> Ambience\n",
      "\n",
      "lovely atmosphere very shady decent crowed maxcellent <==> Ambience\n",
      "\n",
      "but nice environment near the beach <==> Ambience\n",
      "\n",
      "there was a rat running around on the sand floor <==> Ambience\n",
      "\n",
      "nice place to spend <==> Ambience\n",
      "\n",
      "my favorite beach restaurant in colombo ideal place to sit back and have dinner while enjoying seas breezes and view youll bake to see sunset in most days <==> Ambience\n",
      "\n",
      "location is ideal with a sea view and option to reserve tables on the private beach <==> Ambience\n",
      "\n",
      "nice location <==> Ambience\n",
      "\n",
      "a great place for a family dinner out or lunch with a good sea view <==> Ambience\n",
      "\n",
      "food is good and ambience is also good <==> Ambience\n",
      "\n",
      "gorgeous beach <==> Ambience\n",
      "\n",
      "the view is great <==> Ambience\n",
      "\n",
      "the ambience is just what you need to relax your mind and enjoy a hearty meal its a restaurant situated amidst screw pine trees the view that you see is that of the sea and  the sky changing with time adding color to the experience the chairs are set under the trees under sheds and also on the coastdinner is served under candle light and also fire torches lighting the sand <==> Ambience\n",
      "\n",
      "the ambience is amazing and the food is good too <==> Ambience\n",
      "\n",
      "we actually ate on the beach and you walk under a canopy of trees to get to the tables i really enjoyed it  <==> Ambience\n",
      "\n",
      "placed on sandy beaches  you can feel the breeze of sea and enjoying a drink with friends <==> Ambience\n",
      "\n",
      "nice cosy seaside restaurant and bar <==> Ambience\n",
      "\n",
      "nice place for good food on place where local people used to have dinner located on the edge of the sand beach <==> Ambience\n",
      "\n",
      "great ambience  nice liver music <==> Ambience\n",
      "\n",
      "very  nice  place  to hung arround next to beach   <==> Ambience\n",
      "\n",
      "the atmosphere is great <==> Ambience\n",
      "\n",
      "seats at the beach was better than inside ambiance  <==> Ambience\n",
      "\n"
     ]
    }
   ],
   "source": [
    "for i in range (test.size - 1):\n",
    "    try: \n",
    "        review = test.iloc[i]['review_text']\n",
    "        review = clean_text(review)\n",
    "\n",
    "        output = [\"Food\", \"Service\", \"Ambience\", \"Other\"]\n",
    "        result = loaded_model.predict(pd.Series(review))[0]\n",
    "        if(result == 3):\n",
    "            print(review, \"<==>\", output[int(result)-1])\n",
    "            print()\n",
    "    except:\n",
    "        continue\n",
    "    "
   ]
  },
  {
   "cell_type": "code",
   "execution_count": null,
   "id": "b4289104",
   "metadata": {},
   "outputs": [],
   "source": []
  }
 ],
 "metadata": {
  "kernelspec": {
   "display_name": "Python 3 (ipykernel)",
   "language": "python",
   "name": "python3"
  },
  "language_info": {
   "codemirror_mode": {
    "name": "ipython",
    "version": 3
   },
   "file_extension": ".py",
   "mimetype": "text/x-python",
   "name": "python",
   "nbconvert_exporter": "python",
   "pygments_lexer": "ipython3",
   "version": "3.7.0"
  }
 },
 "nbformat": 4,
 "nbformat_minor": 5
}
