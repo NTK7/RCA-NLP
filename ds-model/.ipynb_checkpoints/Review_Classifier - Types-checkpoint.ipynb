{
 "cells": [
  {
   "cell_type": "code",
   "execution_count": 2,
   "metadata": {
    "id": "1SOJ1pxiLIhd"
   },
   "outputs": [],
   "source": [
    "import pandas as pd\n",
    "import re\n",
    "import pickle\n",
    "import matplotlib.pyplot as plt\n",
    "import seaborn as sns\n",
    "\n",
    "from sklearn.utils import resample\n",
    "from sklearn.feature_extraction.text import TfidfVectorizer\n",
    "from sklearn.pipeline import Pipeline\n",
    "from sklearn.feature_extraction.text import CountVectorizer\n",
    "from sklearn.feature_extraction.text import TfidfTransformer\n",
    "from sklearn.linear_model import SGDClassifier\n",
    "from sklearn.naive_bayes import BernoulliNB, GaussianNB\n",
    "from sklearn.svm import SVC\n",
    "\n",
    "from sklearn.model_selection import train_test_split\n",
    "from sklearn.metrics import f1_score, accuracy_score, precision_score"
   ]
  },
  {
   "cell_type": "code",
   "execution_count": 3,
   "metadata": {},
   "outputs": [],
   "source": [
    "root_path = \"data/data_with_types.csv\""
   ]
  },
  {
   "cell_type": "code",
   "execution_count": 5,
   "metadata": {},
   "outputs": [
    {
     "data": {
      "text/html": [
       "<div>\n",
       "<style scoped>\n",
       "    .dataframe tbody tr th:only-of-type {\n",
       "        vertical-align: middle;\n",
       "    }\n",
       "\n",
       "    .dataframe tbody tr th {\n",
       "        vertical-align: top;\n",
       "    }\n",
       "\n",
       "    .dataframe thead th {\n",
       "        text-align: right;\n",
       "    }\n",
       "</style>\n",
       "<table border=\"1\" class=\"dataframe\">\n",
       "  <thead>\n",
       "    <tr style=\"text-align: right;\">\n",
       "      <th></th>\n",
       "      <th>review_text</th>\n",
       "      <th>label</th>\n",
       "      <th>type</th>\n",
       "    </tr>\n",
       "  </thead>\n",
       "  <tbody>\n",
       "    <tr>\n",
       "      <th>0</th>\n",
       "      <td>We had a wonderful Saturday night dinner.</td>\n",
       "      <td>1</td>\n",
       "      <td>4</td>\n",
       "    </tr>\n",
       "    <tr>\n",
       "      <th>1</th>\n",
       "      <td>They had a fire dancer by the beach and a musi...</td>\n",
       "      <td>1</td>\n",
       "      <td>3</td>\n",
       "    </tr>\n",
       "    <tr>\n",
       "      <th>2</th>\n",
       "      <td>The seafood grill was good and their buttered ...</td>\n",
       "      <td>1</td>\n",
       "      <td>1</td>\n",
       "    </tr>\n",
       "    <tr>\n",
       "      <th>3</th>\n",
       "      <td>The grilled lamb was very chewy and not edible...</td>\n",
       "      <td>0</td>\n",
       "      <td>1</td>\n",
       "    </tr>\n",
       "    <tr>\n",
       "      <th>4</th>\n",
       "      <td>the service was good for a packed restaurant</td>\n",
       "      <td>1</td>\n",
       "      <td>2</td>\n",
       "    </tr>\n",
       "  </tbody>\n",
       "</table>\n",
       "</div>"
      ],
      "text/plain": [
       "                                         review_text  label  type\n",
       "0          We had a wonderful Saturday night dinner.      1     4\n",
       "1  They had a fire dancer by the beach and a musi...      1     3\n",
       "2  The seafood grill was good and their buttered ...      1     1\n",
       "3  The grilled lamb was very chewy and not edible...      0     1\n",
       "4       the service was good for a packed restaurant      1     2"
      ]
     },
     "execution_count": 5,
     "metadata": {},
     "output_type": "execute_result"
    }
   ],
   "source": [
    "dataframe = pd.read_csv(root_path)\n",
    "dataframe.head()"
   ]
  },
  {
   "cell_type": "code",
   "execution_count": 7,
   "metadata": {
    "id": "8EfUvvB3LW9F"
   },
   "outputs": [],
   "source": [
    "train_path = 'gdrive/MyDrive/ReviewC/train.csv'\n",
    "test_path = 'gdrive/MyDrive/ReviewC/test.csv'"
   ]
  },
  {
   "cell_type": "code",
   "execution_count": 8,
   "metadata": {
    "id": "jlkH2jTkMsgp"
   },
   "outputs": [],
   "source": [
    "train_data = pd.read_csv(train_path)\n",
    "test_data = pd.read_csv(test_path)"
   ]
  },
  {
   "cell_type": "code",
   "execution_count": 9,
   "metadata": {
    "colab": {
     "base_uri": "https://localhost:8080/",
     "height": 520
    },
    "id": "T0cQfq02M73S",
    "outputId": "55599e7d-cb02-433a-88ca-98d95a9b1dba"
   },
   "outputs": [
    {
     "data": {
      "text/html": [
       "\n",
       "  <div id=\"df-8146489e-d72d-4745-9904-cbe8558475d1\">\n",
       "    <div class=\"colab-df-container\">\n",
       "      <div>\n",
       "<style scoped>\n",
       "    .dataframe tbody tr th:only-of-type {\n",
       "        vertical-align: middle;\n",
       "    }\n",
       "\n",
       "    .dataframe tbody tr th {\n",
       "        vertical-align: top;\n",
       "    }\n",
       "\n",
       "    .dataframe thead th {\n",
       "        text-align: right;\n",
       "    }\n",
       "</style>\n",
       "<table border=\"1\" class=\"dataframe\">\n",
       "  <thead>\n",
       "    <tr style=\"text-align: right;\">\n",
       "      <th></th>\n",
       "      <th>review_text</th>\n",
       "      <th>label</th>\n",
       "    </tr>\n",
       "  </thead>\n",
       "  <tbody>\n",
       "    <tr>\n",
       "      <th>0</th>\n",
       "      <td>We had a wonderful Saturday night dinner. They...</td>\n",
       "      <td>1.0</td>\n",
       "    </tr>\n",
       "    <tr>\n",
       "      <th>1</th>\n",
       "      <td>Service was brilliant and the spicy and very d...</td>\n",
       "      <td>1.0</td>\n",
       "    </tr>\n",
       "    <tr>\n",
       "      <th>2</th>\n",
       "      <td>A nice bar and dining space in Colombo. We can...</td>\n",
       "      <td>0.0</td>\n",
       "    </tr>\n",
       "    <tr>\n",
       "      <th>3</th>\n",
       "      <td>We went there on 31st December 2021. They had ...</td>\n",
       "      <td>1.0</td>\n",
       "    </tr>\n",
       "    <tr>\n",
       "      <th>4</th>\n",
       "      <td>Nice place decorated by the natural assets. Th...</td>\n",
       "      <td>1.0</td>\n",
       "    </tr>\n",
       "    <tr>\n",
       "      <th>5</th>\n",
       "      <td>We dropped in for a quick drink. Dirty martini...</td>\n",
       "      <td>1.0</td>\n",
       "    </tr>\n",
       "    <tr>\n",
       "      <th>6</th>\n",
       "      <td>Actually its a Good place for Dinner out. The ...</td>\n",
       "      <td>1.0</td>\n",
       "    </tr>\n",
       "    <tr>\n",
       "      <th>7</th>\n",
       "      <td>Nice spot for dinner on the beach. We had blac...</td>\n",
       "      <td>1.0</td>\n",
       "    </tr>\n",
       "    <tr>\n",
       "      <th>8</th>\n",
       "      <td>It's a perfect place for a spend your friday n...</td>\n",
       "      <td>1.0</td>\n",
       "    </tr>\n",
       "    <tr>\n",
       "      <th>9</th>\n",
       "      <td>Beautiful ambiance, right by the ocean. Waitst...</td>\n",
       "      <td>1.0</td>\n",
       "    </tr>\n",
       "    <tr>\n",
       "      <th>10</th>\n",
       "      <td>Went to this place to celebrate my husband's b...</td>\n",
       "      <td>1.0</td>\n",
       "    </tr>\n",
       "    <tr>\n",
       "      <th>11</th>\n",
       "      <td>Established in 2013, Barracuda Seafood and Gri...</td>\n",
       "      <td>1.0</td>\n",
       "    </tr>\n",
       "    <tr>\n",
       "      <th>12</th>\n",
       "      <td>Great place to have some delicious food. If yo...</td>\n",
       "      <td>1.0</td>\n",
       "    </tr>\n",
       "    <tr>\n",
       "      <th>13</th>\n",
       "      <td>Food is above average but not so great. My fri...</td>\n",
       "      <td>0.0</td>\n",
       "    </tr>\n",
       "    <tr>\n",
       "      <th>14</th>\n",
       "      <td>So unfortunately the experience was not good. ...</td>\n",
       "      <td>0.0</td>\n",
       "    </tr>\n",
       "  </tbody>\n",
       "</table>\n",
       "</div>\n",
       "      <button class=\"colab-df-convert\" onclick=\"convertToInteractive('df-8146489e-d72d-4745-9904-cbe8558475d1')\"\n",
       "              title=\"Convert this dataframe to an interactive table.\"\n",
       "              style=\"display:none;\">\n",
       "        \n",
       "  <svg xmlns=\"http://www.w3.org/2000/svg\" height=\"24px\"viewBox=\"0 0 24 24\"\n",
       "       width=\"24px\">\n",
       "    <path d=\"M0 0h24v24H0V0z\" fill=\"none\"/>\n",
       "    <path d=\"M18.56 5.44l.94 2.06.94-2.06 2.06-.94-2.06-.94-.94-2.06-.94 2.06-2.06.94zm-11 1L8.5 8.5l.94-2.06 2.06-.94-2.06-.94L8.5 2.5l-.94 2.06-2.06.94zm10 10l.94 2.06.94-2.06 2.06-.94-2.06-.94-.94-2.06-.94 2.06-2.06.94z\"/><path d=\"M17.41 7.96l-1.37-1.37c-.4-.4-.92-.59-1.43-.59-.52 0-1.04.2-1.43.59L10.3 9.45l-7.72 7.72c-.78.78-.78 2.05 0 2.83L4 21.41c.39.39.9.59 1.41.59.51 0 1.02-.2 1.41-.59l7.78-7.78 2.81-2.81c.8-.78.8-2.07 0-2.86zM5.41 20L4 18.59l7.72-7.72 1.47 1.35L5.41 20z\"/>\n",
       "  </svg>\n",
       "      </button>\n",
       "      \n",
       "  <style>\n",
       "    .colab-df-container {\n",
       "      display:flex;\n",
       "      flex-wrap:wrap;\n",
       "      gap: 12px;\n",
       "    }\n",
       "\n",
       "    .colab-df-convert {\n",
       "      background-color: #E8F0FE;\n",
       "      border: none;\n",
       "      border-radius: 50%;\n",
       "      cursor: pointer;\n",
       "      display: none;\n",
       "      fill: #1967D2;\n",
       "      height: 32px;\n",
       "      padding: 0 0 0 0;\n",
       "      width: 32px;\n",
       "    }\n",
       "\n",
       "    .colab-df-convert:hover {\n",
       "      background-color: #E2EBFA;\n",
       "      box-shadow: 0px 1px 2px rgba(60, 64, 67, 0.3), 0px 1px 3px 1px rgba(60, 64, 67, 0.15);\n",
       "      fill: #174EA6;\n",
       "    }\n",
       "\n",
       "    [theme=dark] .colab-df-convert {\n",
       "      background-color: #3B4455;\n",
       "      fill: #D2E3FC;\n",
       "    }\n",
       "\n",
       "    [theme=dark] .colab-df-convert:hover {\n",
       "      background-color: #434B5C;\n",
       "      box-shadow: 0px 1px 3px 1px rgba(0, 0, 0, 0.15);\n",
       "      filter: drop-shadow(0px 1px 2px rgba(0, 0, 0, 0.3));\n",
       "      fill: #FFFFFF;\n",
       "    }\n",
       "  </style>\n",
       "\n",
       "      <script>\n",
       "        const buttonEl =\n",
       "          document.querySelector('#df-8146489e-d72d-4745-9904-cbe8558475d1 button.colab-df-convert');\n",
       "        buttonEl.style.display =\n",
       "          google.colab.kernel.accessAllowed ? 'block' : 'none';\n",
       "\n",
       "        async function convertToInteractive(key) {\n",
       "          const element = document.querySelector('#df-8146489e-d72d-4745-9904-cbe8558475d1');\n",
       "          const dataTable =\n",
       "            await google.colab.kernel.invokeFunction('convertToInteractive',\n",
       "                                                     [key], {});\n",
       "          if (!dataTable) return;\n",
       "\n",
       "          const docLinkHtml = 'Like what you see? Visit the ' +\n",
       "            '<a target=\"_blank\" href=https://colab.research.google.com/notebooks/data_table.ipynb>data table notebook</a>'\n",
       "            + ' to learn more about interactive tables.';\n",
       "          element.innerHTML = '';\n",
       "          dataTable['output_type'] = 'display_data';\n",
       "          await google.colab.output.renderOutput(dataTable, element);\n",
       "          const docLink = document.createElement('div');\n",
       "          docLink.innerHTML = docLinkHtml;\n",
       "          element.appendChild(docLink);\n",
       "        }\n",
       "      </script>\n",
       "    </div>\n",
       "  </div>\n",
       "  "
      ],
      "text/plain": [
       "                                          review_text  label\n",
       "0   We had a wonderful Saturday night dinner. They...    1.0\n",
       "1   Service was brilliant and the spicy and very d...    1.0\n",
       "2   A nice bar and dining space in Colombo. We can...    0.0\n",
       "3   We went there on 31st December 2021. They had ...    1.0\n",
       "4   Nice place decorated by the natural assets. Th...    1.0\n",
       "5   We dropped in for a quick drink. Dirty martini...    1.0\n",
       "6   Actually its a Good place for Dinner out. The ...    1.0\n",
       "7   Nice spot for dinner on the beach. We had blac...    1.0\n",
       "8   It's a perfect place for a spend your friday n...    1.0\n",
       "9   Beautiful ambiance, right by the ocean. Waitst...    1.0\n",
       "10  Went to this place to celebrate my husband's b...    1.0\n",
       "11  Established in 2013, Barracuda Seafood and Gri...    1.0\n",
       "12  Great place to have some delicious food. If yo...    1.0\n",
       "13  Food is above average but not so great. My fri...    0.0\n",
       "14  So unfortunately the experience was not good. ...    0.0"
      ]
     },
     "execution_count": 9,
     "metadata": {},
     "output_type": "execute_result"
    }
   ],
   "source": [
    "# Reading first 15 rows of the training data\n",
    "train_data.head(15)"
   ]
  },
  {
   "cell_type": "code",
   "execution_count": 11,
   "metadata": {
    "id": "v1h9cNtkN5nK"
   },
   "outputs": [],
   "source": [
    "# drop empty rows from the train and the test csv files\n",
    "train_data = train_data.dropna();\n",
    "test_data = test_data.dropna();"
   ]
  },
  {
   "cell_type": "code",
   "execution_count": 12,
   "metadata": {
    "colab": {
     "base_uri": "https://localhost:8080/"
    },
    "id": "Gdmf-howNOzl",
    "outputId": "e8293162-82d2-40fb-c215-633adabb92ea"
   },
   "outputs": [
    {
     "name": "stdout",
     "output_type": "stream",
     "text": [
      "Training Set: (1288, 2)\n",
      "Testing Set: (323, 2)\n"
     ]
    }
   ],
   "source": [
    "# Size of dataset\n",
    "print(\"Training Set:\"% train_data.columns, train_data.shape) # 1288 rows for Training dataset\n",
    "print(\"Testing Set:\"% test_data.columns, test_data.shape)    # 323 rows for Testing dataset"
   ]
  },
  {
   "cell_type": "code",
   "execution_count": 13,
   "metadata": {
    "colab": {
     "base_uri": "https://localhost:8080/",
     "height": 320
    },
    "id": "eC5bxMpHNT8H",
    "outputId": "a565ca16-9c82-4b1a-a366-f43d3a56fbc2"
   },
   "outputs": [
    {
     "name": "stderr",
     "output_type": "stream",
     "text": [
      "/usr/local/lib/python3.7/dist-packages/seaborn/_decorators.py:43: FutureWarning: Pass the following variables as keyword args: x, y. From version 0.12, the only valid positional argument will be `data`, and passing other arguments without an explicit keyword will result in an error or misinterpretation.\n",
      "  FutureWarning\n"
     ]
    },
    {
     "data": {
      "image/png": "[encoded data removed]",
      "text/plain": [
       "<Figure size 432x288 with 1 Axes>"
      ]
     },
     "metadata": {
      "needs_background": "light"
     },
     "output_type": "display_data"
    }
   ],
   "source": [
    "negative_count = len(train_data[train_data.label == 0])\n",
    "positive_count = len(train_data[train_data.label == 1])\n",
    "\n",
    "x = [\"Negative\", \"Positive\"]\n",
    "y = [negative_count, positive_count]\n",
    "\n",
    "sns.barplot(x, y)\n",
    "plt.show()"
   ]
  },
  {
   "cell_type": "code",
   "execution_count": 14,
   "metadata": {
    "id": "c68ICMdoROOz"
   },
   "outputs": [],
   "source": [
    "def  clean_text(df, text_field): #\n",
    "    # This function removes all unnecessary characters from the text\n",
    "    df[text_field] = df[text_field].str.lower()\n",
    "    df[text_field] = df[text_field].apply(lambda elem: re.sub(r\"(@[A-Za-z0-9]+)|([^0-9A-Za-z \\t])|(\\w+:\\/\\/\\S+)|^rt|http.+?\", \"\", elem))  \n",
    "    return df\n",
    "\n",
    "train_clean = clean_text(train_data, \"review_text\")\n",
    "test_clean = clean_text(test_data, \"review_text\")"
   ]
  },
  {
   "cell_type": "code",
   "execution_count": 15,
   "metadata": {
    "colab": {
     "base_uri": "https://localhost:8080/",
     "height": 520
    },
    "id": "6qUAjkbyRa2a",
    "outputId": "90a918f4-61e4-4483-dde1-4eceb458e83e"
   },
   "outputs": [
    {
     "data": {
      "text/html": [
       "\n",
       "  <div id=\"df-09636ed7-f298-4c6c-84ae-cb1f2a698f4c\">\n",
       "    <div class=\"colab-df-container\">\n",
       "      <div>\n",
       "<style scoped>\n",
       "    .dataframe tbody tr th:only-of-type {\n",
       "        vertical-align: middle;\n",
       "    }\n",
       "\n",
       "    .dataframe tbody tr th {\n",
       "        vertical-align: top;\n",
       "    }\n",
       "\n",
       "    .dataframe thead th {\n",
       "        text-align: right;\n",
       "    }\n",
       "</style>\n",
       "<table border=\"1\" class=\"dataframe\">\n",
       "  <thead>\n",
       "    <tr style=\"text-align: right;\">\n",
       "      <th></th>\n",
       "      <th>review_text</th>\n",
       "      <th>label</th>\n",
       "    </tr>\n",
       "  </thead>\n",
       "  <tbody>\n",
       "    <tr>\n",
       "      <th>0</th>\n",
       "      <td>we had a wonderful saturday night dinner they ...</td>\n",
       "      <td>1.0</td>\n",
       "    </tr>\n",
       "    <tr>\n",
       "      <th>1</th>\n",
       "      <td>service was brilliant and the spicy and very d...</td>\n",
       "      <td>1.0</td>\n",
       "    </tr>\n",
       "    <tr>\n",
       "      <th>2</th>\n",
       "      <td>a nice bar and dining space in colombo we can ...</td>\n",
       "      <td>0.0</td>\n",
       "    </tr>\n",
       "    <tr>\n",
       "      <th>3</th>\n",
       "      <td>we went there on 31st december 2021 they had a...</td>\n",
       "      <td>1.0</td>\n",
       "    </tr>\n",
       "    <tr>\n",
       "      <th>4</th>\n",
       "      <td>nice place decorated by the natural assets the...</td>\n",
       "      <td>1.0</td>\n",
       "    </tr>\n",
       "    <tr>\n",
       "      <th>5</th>\n",
       "      <td>we dropped in for a quick drink dirty martini ...</td>\n",
       "      <td>1.0</td>\n",
       "    </tr>\n",
       "    <tr>\n",
       "      <th>6</th>\n",
       "      <td>actually its a good place for dinner out the d...</td>\n",
       "      <td>1.0</td>\n",
       "    </tr>\n",
       "    <tr>\n",
       "      <th>7</th>\n",
       "      <td>nice spot for dinner on the beach we had black...</td>\n",
       "      <td>1.0</td>\n",
       "    </tr>\n",
       "    <tr>\n",
       "      <th>8</th>\n",
       "      <td>its a perfect place for a spend your friday ni...</td>\n",
       "      <td>1.0</td>\n",
       "    </tr>\n",
       "    <tr>\n",
       "      <th>9</th>\n",
       "      <td>beautiful ambiance right by the ocean waitstaf...</td>\n",
       "      <td>1.0</td>\n",
       "    </tr>\n",
       "    <tr>\n",
       "      <th>10</th>\n",
       "      <td>went to this place to celebrate my husbands bi...</td>\n",
       "      <td>1.0</td>\n",
       "    </tr>\n",
       "    <tr>\n",
       "      <th>11</th>\n",
       "      <td>established in 2013 barracuda seafood and gril...</td>\n",
       "      <td>1.0</td>\n",
       "    </tr>\n",
       "    <tr>\n",
       "      <th>12</th>\n",
       "      <td>great place to have some delicious food if you...</td>\n",
       "      <td>1.0</td>\n",
       "    </tr>\n",
       "    <tr>\n",
       "      <th>13</th>\n",
       "      <td>food is above average but not so great my frie...</td>\n",
       "      <td>0.0</td>\n",
       "    </tr>\n",
       "    <tr>\n",
       "      <th>14</th>\n",
       "      <td>so unfortunately the experience was not good t...</td>\n",
       "      <td>0.0</td>\n",
       "    </tr>\n",
       "  </tbody>\n",
       "</table>\n",
       "</div>\n",
       "      <button class=\"colab-df-convert\" onclick=\"convertToInteractive('df-09636ed7-f298-4c6c-84ae-cb1f2a698f4c')\"\n",
       "              title=\"Convert this dataframe to an interactive table.\"\n",
       "              style=\"display:none;\">\n",
       "        \n",
       "  <svg xmlns=\"http://www.w3.org/2000/svg\" height=\"24px\"viewBox=\"0 0 24 24\"\n",
       "       width=\"24px\">\n",
       "    <path d=\"M0 0h24v24H0V0z\" fill=\"none\"/>\n",
       "    <path d=\"M18.56 5.44l.94 2.06.94-2.06 2.06-.94-2.06-.94-.94-2.06-.94 2.06-2.06.94zm-11 1L8.5 8.5l.94-2.06 2.06-.94-2.06-.94L8.5 2.5l-.94 2.06-2.06.94zm10 10l.94 2.06.94-2.06 2.06-.94-2.06-.94-.94-2.06-.94 2.06-2.06.94z\"/><path d=\"M17.41 7.96l-1.37-1.37c-.4-.4-.92-.59-1.43-.59-.52 0-1.04.2-1.43.59L10.3 9.45l-7.72 7.72c-.78.78-.78 2.05 0 2.83L4 21.41c.39.39.9.59 1.41.59.51 0 1.02-.2 1.41-.59l7.78-7.78 2.81-2.81c.8-.78.8-2.07 0-2.86zM5.41 20L4 18.59l7.72-7.72 1.47 1.35L5.41 20z\"/>\n",
       "  </svg>\n",
       "      </button>\n",
       "      \n",
       "  <style>\n",
       "    .colab-df-container {\n",
       "      display:flex;\n",
       "      flex-wrap:wrap;\n",
       "      gap: 12px;\n",
       "    }\n",
       "\n",
       "    .colab-df-convert {\n",
       "      background-color: #E8F0FE;\n",
       "      border: none;\n",
       "      border-radius: 50%;\n",
       "      cursor: pointer;\n",
       "      display: none;\n",
       "      fill: #1967D2;\n",
       "      height: 32px;\n",
       "      padding: 0 0 0 0;\n",
       "      width: 32px;\n",
       "    }\n",
       "\n",
       "    .colab-df-convert:hover {\n",
       "      background-color: #E2EBFA;\n",
       "      box-shadow: 0px 1px 2px rgba(60, 64, 67, 0.3), 0px 1px 3px 1px rgba(60, 64, 67, 0.15);\n",
       "      fill: #174EA6;\n",
       "    }\n",
       "\n",
       "    [theme=dark] .colab-df-convert {\n",
       "      background-color: #3B4455;\n",
       "      fill: #D2E3FC;\n",
       "    }\n",
       "\n",
       "    [theme=dark] .colab-df-convert:hover {\n",
       "      background-color: #434B5C;\n",
       "      box-shadow: 0px 1px 3px 1px rgba(0, 0, 0, 0.15);\n",
       "      filter: drop-shadow(0px 1px 2px rgba(0, 0, 0, 0.3));\n",
       "      fill: #FFFFFF;\n",
       "    }\n",
       "  </style>\n",
       "\n",
       "      <script>\n",
       "        const buttonEl =\n",
       "          document.querySelector('#df-09636ed7-f298-4c6c-84ae-cb1f2a698f4c button.colab-df-convert');\n",
       "        buttonEl.style.display =\n",
       "          google.colab.kernel.accessAllowed ? 'block' : 'none';\n",
       "\n",
       "        async function convertToInteractive(key) {\n",
       "          const element = document.querySelector('#df-09636ed7-f298-4c6c-84ae-cb1f2a698f4c');\n",
       "          const dataTable =\n",
       "            await google.colab.kernel.invokeFunction('convertToInteractive',\n",
       "                                                     [key], {});\n",
       "          if (!dataTable) return;\n",
       "\n",
       "          const docLinkHtml = 'Like what you see? Visit the ' +\n",
       "            '<a target=\"_blank\" href=https://colab.research.google.com/notebooks/data_table.ipynb>data table notebook</a>'\n",
       "            + ' to learn more about interactive tables.';\n",
       "          element.innerHTML = '';\n",
       "          dataTable['output_type'] = 'display_data';\n",
       "          await google.colab.output.renderOutput(dataTable, element);\n",
       "          const docLink = document.createElement('div');\n",
       "          docLink.innerHTML = docLinkHtml;\n",
       "          element.appendChild(docLink);\n",
       "        }\n",
       "      </script>\n",
       "    </div>\n",
       "  </div>\n",
       "  "
      ],
      "text/plain": [
       "                                          review_text  label\n",
       "0   we had a wonderful saturday night dinner they ...    1.0\n",
       "1   service was brilliant and the spicy and very d...    1.0\n",
       "2   a nice bar and dining space in colombo we can ...    0.0\n",
       "3   we went there on 31st december 2021 they had a...    1.0\n",
       "4   nice place decorated by the natural assets the...    1.0\n",
       "5   we dropped in for a quick drink dirty martini ...    1.0\n",
       "6   actually its a good place for dinner out the d...    1.0\n",
       "7   nice spot for dinner on the beach we had black...    1.0\n",
       "8   its a perfect place for a spend your friday ni...    1.0\n",
       "9   beautiful ambiance right by the ocean waitstaf...    1.0\n",
       "10  went to this place to celebrate my husbands bi...    1.0\n",
       "11  established in 2013 barracuda seafood and gril...    1.0\n",
       "12  great place to have some delicious food if you...    1.0\n",
       "13  food is above average but not so great my frie...    0.0\n",
       "14  so unfortunately the experience was not good t...    0.0"
      ]
     },
     "execution_count": 15,
     "metadata": {},
     "output_type": "execute_result"
    }
   ],
   "source": [
    "train_clean.head(15)"
   ]
  },
  {
   "cell_type": "code",
   "execution_count": 16,
   "metadata": {
    "colab": {
     "base_uri": "https://localhost:8080/"
    },
    "id": "lwxZJ9SYRceX",
    "outputId": "8485cc45-a0f3-40e6-d06f-fea62a8e944b"
   },
   "outputs": [
    {
     "name": "stdout",
     "output_type": "stream",
     "text": [
      "Negative count from the train dataset:  261\n",
      "Positive count from the train dataset:  1027\n"
     ]
    }
   ],
   "source": [
    "# Getting count of Negative and Positive label from train dataset\n",
    "print(\"Negative count from the train dataset: \", len(train_clean[train_clean.label == 0]))\n",
    "print(\"Positive count from the train dataset: \", len(train_clean[train_clean.label == 1]))\n",
    "\n",
    "# The output is clearly imbalanced"
   ]
  },
  {
   "cell_type": "code",
   "execution_count": 19,
   "metadata": {
    "colab": {
     "base_uri": "https://localhost:8080/"
    },
    "id": "9dls2m4mRm2s",
    "outputId": "ca3fa5e2-0db0-4003-e435-98952bb82f38"
   },
   "outputs": [
    {
     "data": {
      "text/plain": [
       "0.0    1027\n",
       "1.0    1027\n",
       "Name: label, dtype: int64"
      ]
     },
     "execution_count": 19,
     "metadata": {},
     "output_type": "execute_result"
    }
   ],
   "source": [
    "train_negative = train_clean[train_clean.label == 0]\n",
    "train_positive = train_clean[train_clean.label == 1]\n",
    "\n",
    "train_negative_upsampled = resample(train_negative, \n",
    "                                replace=True,    \n",
    "                                n_samples=len(train_positive),   \n",
    "                                random_state=123)\n",
    "\n",
    "train_upsampled = pd.concat([train_negative_upsampled, train_positive])\n",
    "train_upsampled['label'].value_counts()"
   ]
  },
  {
   "cell_type": "code",
   "execution_count": 20,
   "metadata": {
    "colab": {
     "base_uri": "https://localhost:8080/",
     "height": 320
    },
    "id": "LUsBCDkLSF2l",
    "outputId": "d24c362c-473f-415e-aed1-5d6e9b3dd5fe"
   },
   "outputs": [
    {
     "name": "stderr",
     "output_type": "stream",
     "text": [
      "/usr/local/lib/python3.7/dist-packages/seaborn/_decorators.py:43: FutureWarning: Pass the following variables as keyword args: x, y. From version 0.12, the only valid positional argument will be `data`, and passing other arguments without an explicit keyword will result in an error or misinterpretation.\n",
      "  FutureWarning\n"
     ]
    },
    {
     "data": {
      "image/png": "[encoded data removed]",
      "text/plain": [
       "<Figure size 432x288 with 1 Axes>"
      ]
     },
     "metadata": {
      "needs_background": "light"
     },
     "output_type": "display_data"
    }
   ],
   "source": [
    "x = [\"Negative\", \"Positive\"]\n",
    "y = [len(train_upsampled[train_upsampled.label == 0 ]), len(train_upsampled[train_upsampled.label == 1 ])]\n",
    "\n",
    "sns.barplot(x, y)\n",
    "plt.show()"
   ]
  },
  {
   "cell_type": "code",
   "execution_count": 21,
   "metadata": {
    "id": "urFqwAhmTKE4"
   },
   "outputs": [],
   "source": [
    "pipeline_sgd = Pipeline([('vect', CountVectorizer()), \n",
    "                         ('tfidf',  TfidfTransformer()), \n",
    "                         ('nb', SGDClassifier()),])\n",
    "\n",
    "pipeline_bnb = Pipeline([('vect', CountVectorizer()), \n",
    "                         ('tfidf',  TfidfTransformer()), \n",
    "                         ('nb', BernoulliNB()),])\n",
    "\n",
    "pipeline_svc = Pipeline([('vect', CountVectorizer()), \n",
    "                         ('tfidf',  TfidfTransformer()), \n",
    "                         ('nb', SVC()),])"
   ]
  },
  {
   "cell_type": "code",
   "execution_count": 22,
   "metadata": {
    "id": "pGdzsq_5TgR_"
   },
   "outputs": [],
   "source": [
    "X_train, X_test, y_train, y_test = train_test_split(train_upsampled['review_text'],\n",
    "                                                    train_upsampled['label'],\n",
    "                                                    random_state = 0)\n",
    "models = []\n",
    "\n",
    "model_sgd = pipeline_sgd.fit(X_train, y_train)\n",
    "model_bnb = pipeline_bnb.fit(X_train, y_train)\n",
    "model_svc = pipeline_svc.fit(X_train, y_train)\n",
    "\n",
    "models.append({\"name\": \"model_sgd\", \"model\": model_sgd})\n",
    "models.append({\"name\": \"model_bnb\", \"model\": model_bnb})\n",
    "models.append({\"name\": \"model_svc\", \"model\": model_svc})"
   ]
  },
  {
   "cell_type": "code",
   "execution_count": 23,
   "metadata": {
    "colab": {
     "base_uri": "https://localhost:8080/"
    },
    "id": "_fu9f1LZToDJ",
    "outputId": "8099bc20-0dc6-4cc7-e283-dc52c4bb01d3"
   },
   "outputs": [
    {
     "name": "stdout",
     "output_type": "stream",
     "text": [
      "Model name: model_sgd\n",
      "F1 score 91.03 %\n",
      "Accuracy score 91.83 %\n",
      "Precision score 96.82 %\n",
      "-----------------------\n",
      "Model name: model_bnb\n",
      "F1 score 77.18 %\n",
      "Accuracy score 72.96 %\n",
      "Precision score 65.1 %\n",
      "-----------------------\n",
      "Model name: model_svc\n",
      "F1 score 95.95 %\n",
      "Accuracy score 96.11 %\n",
      "Precision score 96.34 %\n",
      "-----------------------\n"
     ]
    }
   ],
   "source": [
    "for index in range (len(models)):\n",
    "    print(\"Model name:\", models[index]['name'])\n",
    "    y_predict = models[index]['model'].predict(X_test)\n",
    "    f1_score_result = f1_score(y_test, y_predict)\n",
    "    accuracy_score_result = accuracy_score(y_test, y_predict)\n",
    "    precision_score_result = precision_score(y_test, y_predict)\n",
    "\n",
    "    print(\"F1 score %s\" % round(f1_score_result*100, 2), \"%\")\n",
    "    print(\"Accuracy score %s\" % round(accuracy_score_result*100, 2), \"%\")\n",
    "    print(\"Precision score %s\" % round(precision_score_result*100, 2), \"%\")\n",
    "    print(\"-----------------------\")"
   ]
  },
  {
   "cell_type": "code",
   "execution_count": 25,
   "metadata": {
    "id": "GI44xsJBTq9s"
   },
   "outputs": [],
   "source": [
    "pickle.dump(models[2]['model'], open(\"model\", 'wb'))"
   ]
  },
  {
   "cell_type": "code",
   "execution_count": 26,
   "metadata": {
    "id": "ko3QzU4hTwG_"
   },
   "outputs": [],
   "source": [
    "loaded_model = pickle.load(open(\"model\", 'rb'))"
   ]
  },
  {
   "cell_type": "code",
   "execution_count": 27,
   "metadata": {
    "colab": {
     "base_uri": "https://localhost:8080/"
    },
    "id": "B-ETRfqjWCaH",
    "outputId": "f4c7e8e4-703f-40c2-9f49-12aa100995b0"
   },
   "outputs": [
    {
     "name": "stdout",
     "output_type": "stream",
     "text": [
      "Pipeline(steps=[('vect', CountVectorizer()), ('tfidf', TfidfTransformer()),\n",
      "                ('nb', SVC())])\n"
     ]
    }
   ],
   "source": [
    "print(loaded_model)"
   ]
  },
  {
   "cell_type": "code",
   "execution_count": 28,
   "metadata": {
    "id": "FPQpfBwDWEuH"
   },
   "outputs": [],
   "source": [
    "def clean_text(text):\n",
    "    text = text.lower()\n",
    "    text = re.sub(r\"(@[A-Za-z0-9]+)|([^0-9A-Za-z \\t])|(\\w+:\\/\\/\\S+)|^rt|http.+?\", \"\", text)\n",
    "    return text"
   ]
  },
  {
   "cell_type": "code",
   "execution_count": 39,
   "metadata": {
    "colab": {
     "base_uri": "https://localhost:8080/",
     "height": 1000
    },
    "id": "fOlxcboyWGcj",
    "outputId": "82d2fb9f-e246-408d-dfb3-7f6ab2b38272"
   },
   "outputs": [
    {
     "name": "stdout",
     "output_type": "stream",
     "text": [
      "food is not up to the mark <==> Negative\n",
      "\n",
      "ok place <==> Negative\n",
      "\n",
      "quality has gone down <==> Negative\n",
      "\n",
      "bad service from their manager <==> Negative\n",
      "\n",
      "very bad customer service <==> Negative\n",
      "\n",
      "tastiest food ever <==> Negative\n",
      "\n",
      "price is reasonable <==> Negative\n",
      "\n",
      "poor customer service <==> Negative\n",
      "\n",
      "reasonable price <==> Negative\n",
      "\n",
      "poor service <==> Negative\n",
      "\n",
      "foods not tasty <==> Negative\n",
      "\n",
      "food is not good <==> Negative\n",
      "\n",
      "some foods overpriced <==> Negative\n",
      "\n",
      "expensive and poor services <==> Negative\n",
      "\n",
      "poor customer service <==> Negative\n",
      "\n",
      "food was tasteless <==> Negative\n",
      "\n",
      "the worst crew <==> Negative\n",
      "\n",
      "not happy with the service <==> Negative\n",
      "\n",
      "happy <==> Negative\n",
      "\n",
      "poor customer service <==> Negative\n",
      "\n",
      "nice food <==> Negative\n",
      "\n",
      "very poor <==> Negative\n",
      "\n",
      "poor customer service <==> Negative\n",
      "\n",
      "bad safety <==> Negative\n",
      "\n",
      "service is poor <==> Negative\n",
      "\n",
      "average food <==> Negative\n",
      "\n",
      "too expensive <==> Negative\n",
      "\n",
      "worst today <==> Negative\n",
      "\n",
      "you better bring some mosquito coils to this place we informed to the staff but they didnt care about it <==> Negative\n",
      "\n",
      "worst customer service stayed for almost 30 minutes having unbearable attitude attitude the people who work here if you are looking for a pleasant experience its not the place   <==> Negative\n",
      "\n",
      "worst customer service waited for 30 minutes and no one came to get the order <==> Negative\n",
      "\n",
      "too much price with unpleasant staff who do not knw how to speak to guests <==> Negative\n",
      "\n",
      "never go here  service is way way way below average  a roadside hotel service is way better from the waiters to the managers they dont know whats customer service  dont go  <==> Negative\n",
      "\n",
      "translated by google administration is over  five of us went to dinner yesterday  service is overa day expired lemonade was served to me my wife is pregnantmy friends wife is the mother of a babyexpiration date checked due to difference in taste and aroma in doing so i saw that it was out of date  i told the management about it but they didnt pay any attention to it  the service was final  inferior  the waiters service was final original                                                         <==> Negative\n",
      "\n",
      "translated by google it is one of the few seaside restaurants in colombo the price is not expensive the dishes are ok and many foreigners eat hereoriginal <==> Negative\n",
      "\n",
      "translated by google good and meets the purpose and do not recommend it to conservative familiesoriginal        <==> Negative\n",
      "\n"
     ]
    },
    {
     "ename": "AttributeError",
     "evalue": "ignored",
     "output_type": "error",
     "traceback": [
      "\u001b[0;31m---------------------------------------------------------------------------\u001b[0m",
      "\u001b[0;31mAttributeError\u001b[0m                            Traceback (most recent call last)",
      "\u001b[0;32m<ipython-input-39-c2e364d67db2>\u001b[0m in \u001b[0;36m<module>\u001b[0;34m()\u001b[0m\n\u001b[1;32m      3\u001b[0m \u001b[0;32mfor\u001b[0m \u001b[0mi\u001b[0m \u001b[0;32min\u001b[0m \u001b[0mrange\u001b[0m \u001b[0;34m(\u001b[0m\u001b[0mtest_data\u001b[0m\u001b[0;34m.\u001b[0m\u001b[0msize\u001b[0m\u001b[0;34m-\u001b[0m\u001b[0;36m1\u001b[0m\u001b[0;34m)\u001b[0m\u001b[0;34m:\u001b[0m\u001b[0;34m\u001b[0m\u001b[0;34m\u001b[0m\u001b[0m\n\u001b[1;32m      4\u001b[0m     \u001b[0mreview\u001b[0m \u001b[0;34m=\u001b[0m \u001b[0mtest_data\u001b[0m\u001b[0;34m.\u001b[0m\u001b[0miloc\u001b[0m\u001b[0;34m[\u001b[0m\u001b[0mi\u001b[0m\u001b[0;34m]\u001b[0m\u001b[0;34m[\u001b[0m\u001b[0;34m'review_text'\u001b[0m\u001b[0;34m]\u001b[0m\u001b[0;34m\u001b[0m\u001b[0;34m\u001b[0m\u001b[0m\n\u001b[0;32m----> 5\u001b[0;31m     \u001b[0mreview\u001b[0m \u001b[0;34m=\u001b[0m \u001b[0mclean_text\u001b[0m\u001b[0;34m(\u001b[0m\u001b[0mreview\u001b[0m\u001b[0;34m)\u001b[0m\u001b[0;34m\u001b[0m\u001b[0;34m\u001b[0m\u001b[0m\n\u001b[0m\u001b[1;32m      6\u001b[0m \u001b[0;34m\u001b[0m\u001b[0m\n\u001b[1;32m      7\u001b[0m     \u001b[0moutput\u001b[0m \u001b[0;34m=\u001b[0m \u001b[0;34m[\u001b[0m\u001b[0;34m\"Negative\"\u001b[0m\u001b[0;34m,\u001b[0m \u001b[0;34m\"Positive\"\u001b[0m\u001b[0;34m]\u001b[0m\u001b[0;34m\u001b[0m\u001b[0;34m\u001b[0m\u001b[0m\n",
      "\u001b[0;32m<ipython-input-28-9c4f4c3ba7cd>\u001b[0m in \u001b[0;36mclean_text\u001b[0;34m(text)\u001b[0m\n\u001b[1;32m      1\u001b[0m \u001b[0;32mdef\u001b[0m \u001b[0mclean_text\u001b[0m\u001b[0;34m(\u001b[0m\u001b[0mtext\u001b[0m\u001b[0;34m)\u001b[0m\u001b[0;34m:\u001b[0m\u001b[0;34m\u001b[0m\u001b[0;34m\u001b[0m\u001b[0m\n\u001b[0;32m----> 2\u001b[0;31m     \u001b[0mtext\u001b[0m \u001b[0;34m=\u001b[0m \u001b[0mtext\u001b[0m\u001b[0;34m.\u001b[0m\u001b[0mlower\u001b[0m\u001b[0;34m(\u001b[0m\u001b[0;34m)\u001b[0m\u001b[0;34m\u001b[0m\u001b[0;34m\u001b[0m\u001b[0m\n\u001b[0m\u001b[1;32m      3\u001b[0m     \u001b[0mtext\u001b[0m \u001b[0;34m=\u001b[0m \u001b[0mre\u001b[0m\u001b[0;34m.\u001b[0m\u001b[0msub\u001b[0m\u001b[0;34m(\u001b[0m\u001b[0;34mr\"(@[A-Za-z0-9]+)|([^0-9A-Za-z \\t])|(\\w+:\\/\\/\\S+)|^rt|http.+?\"\u001b[0m\u001b[0;34m,\u001b[0m \u001b[0;34m\"\"\u001b[0m\u001b[0;34m,\u001b[0m \u001b[0mtext\u001b[0m\u001b[0;34m)\u001b[0m\u001b[0;34m\u001b[0m\u001b[0;34m\u001b[0m\u001b[0m\n\u001b[1;32m      4\u001b[0m     \u001b[0;32mreturn\u001b[0m \u001b[0mtext\u001b[0m\u001b[0;34m\u001b[0m\u001b[0;34m\u001b[0m\u001b[0m\n",
      "\u001b[0;31mAttributeError\u001b[0m: 'float' object has no attribute 'lower'"
     ]
    }
   ],
   "source": [
    "test_data = pd.read_csv(test_path)\n",
    "\n",
    "for i in range (test_data.size-1):\n",
    "    review = test_data.iloc[i]['review_text']\n",
    "    review = clean_text(review)\n",
    "\n",
    "    output = [\"Negative\", \"Positive\"]\n",
    "    result = loaded_model.predict(pd.Series(review))[0]\n",
    "    if(result == 0):\n",
    "        print(review, \"<==>\", output[int(result)])\n",
    "        print()"
   ]
  },
  {
   "cell_type": "code",
   "execution_count": null,
   "metadata": {
    "id": "lHicP604WVwq"
   },
   "outputs": [],
   "source": []
  }
 ],
 "metadata": {
  "colab": {
   "collapsed_sections": [],
   "name": "Review Classifier.ipynb",
   "provenance": []
  },
  "kernelspec": {
   "display_name": "Python 3 (ipykernel)",
   "language": "python",
   "name": "python3"
  },
  "language_info": {
   "codemirror_mode": {
    "name": "ipython",
    "version": 3
   },
   "file_extension": ".py",
   "mimetype": "text/x-python",
   "name": "python",
   "nbconvert_exporter": "python",
   "pygments_lexer": "ipython3",
   "version": "3.7.0"
  },
  "vscode": {
   "interpreter": {
    "hash": "356734b0b4e05b3af569ed06eb258f6ef66038e7268c6bdbb97ecd1a1c609e88"
   }
  }
 },
 "nbformat": 4,
 "nbformat_minor": 1
}
